{
 "cells": [
  {
   "cell_type": "code",
   "execution_count": 1,
   "id": "13657b92-7e07-42fd-b3fa-4efbf4a9e6ee",
   "metadata": {},
   "outputs": [],
   "source": [
    "import numpy\n",
    "import matplotlib.pyplot as plt"
   ]
  },
  {
   "cell_type": "markdown",
   "id": "5705b613-9a1c-4a9e-8972-c7f92f8b3112",
   "metadata": {},
   "source": [
    "# Least squares regression (in 1D) using Python"
   ]
  },
  {
   "cell_type": "markdown",
   "id": "e25fda0b-335a-4486-81c8-3bb3b6fc124a",
   "metadata": {},
   "source": [
    "## Create some data which will fit polynomials $f(x)$ to"
   ]
  },
  {
   "cell_type": "markdown",
   "id": "a28e6467-eb74-40d0-8fb4-ab8130ba4874",
   "metadata": {},
   "source": [
    "First we create array of x coordinates"
   ]
  },
  {
   "cell_type": "code",
   "execution_count": 6,
   "id": "5891bfca-256a-455e-a98b-d4737e547849",
   "metadata": {},
   "outputs": [],
   "source": [
    "x_start = 0.0\n",
    "x_end = 2.0;\n",
    "numpoints = 10\n",
    "dx = (x_end - x_start)/float(numpoints - 1)\n",
    "\n",
    "x = numpy.zeros(numpoints)\n",
    "for i in range(numpoints):\n",
    "    x[i] = x_start + i * dx"
   ]
  },
  {
   "cell_type": "markdown",
   "id": "8d69a6e8-15c4-456b-96e4-ce3b39232813",
   "metadata": {},
   "source": [
    "and evaluate a known function at each `x[i]`.\n",
    "\n",
    "We will choose\n",
    "$$\n",
    "y(x) = 1 + x + 3.01 x^2 + n(x),\n",
    "$$\n",
    "where $n(x)$ is some random noise."
   ]
  },
  {
   "cell_type": "code",
   "execution_count": 9,
   "id": "4314db6d-25dc-4ee3-8cdd-36fa26905ce6",
   "metadata": {},
   "outputs": [],
   "source": [
    "y = 1.0 + x + 3.01 * x**2"
   ]
  },
  {
   "cell_type": "code",
   "execution_count": 11,
   "id": "2fa1e0ba-21e0-4119-80ed-3d7a3a3cae73",
   "metadata": {},
   "outputs": [],
   "source": [
    "numpy.random.seed(0)\n",
    "\n",
    "noise = numpy.random.random(numpoints) * 4.0\n",
    "\n",
    "y += noise"
   ]
  },
  {
   "cell_type": "code",
   "execution_count": 13,
   "id": "b298658d-be9b-413b-83ce-8ad3e4ff3c21",
   "metadata": {},
   "outputs": [
    {
     "data": {
      "image/png": "[encoded data removed]",
      "text/plain": [
       "<Figure size 640x480 with 1 Axes>"
      ]
     },
     "metadata": {},
     "output_type": "display_data"
    }
   ],
   "source": [
    "plt.plot(x, y, 'ok', label='data')\n",
    "plt.legend(loc='best');"
   ]
  },
  {
   "cell_type": "markdown",
   "id": "fb363cf1-7d45-4ebf-a809-654752ae0445",
   "metadata": {},
   "source": [
    "We will create a fine sampling of coordinates to evaluate our fit functions $f(x)$ on. These are referred to as the evaluation points."
   ]
  },
  {
   "cell_type": "code",
   "execution_count": 15,
   "id": "836472fc-0c33-4677-ae8c-bfa69dcba4eb",
   "metadata": {},
   "outputs": [],
   "source": [
    "numpoints_eval = 128\n",
    "dx_eval = (x_end - x_start)/float(numpoints_eval - 1)\n",
    "\n",
    "x_eval = numpy.zeros(numpoints_eval)\n",
    "for i in range(numpoints_eval):\n",
    "    x_eval[i] = x_start + i * dx_eval"
   ]
  },
  {
   "cell_type": "markdown",
   "id": "79af0ca1-88a6-4930-bec4-662a651ca290",
   "metadata": {},
   "source": [
    "---\n",
    "\n"
   ]
  },
  {
   "cell_type": "markdown",
   "id": "3f61b833-5a40-4e98-8dd7-7eef63b0cc6d",
   "metadata": {},
   "source": [
    "To perform polynomial regression we will use the following package"
   ]
  },
  {
   "cell_type": "code",
   "execution_count": 20,
   "id": "f56ec34c-6170-4f7d-8a51-8e6bad7e1eb9",
   "metadata": {},
   "outputs": [],
   "source": [
    "import numpy.polynomial as poly"
   ]
  },
  {
   "cell_type": "markdown",
   "id": "f890e765-6fbf-49e3-a7ab-0598ac4502e7",
   "metadata": {},
   "source": [
    "and from this we will use `poly.Polynomial.fit`."
   ]
  },
  {
   "cell_type": "markdown",
   "id": "980e3f01-fb94-4984-862c-2bba814b175c",
   "metadata": {},
   "source": [
    "---\n",
    "\n",
    "## Linear regression\n",
    "\n"
   ]
  },
  {
   "cell_type": "markdown",
   "id": "64794947-0f0a-4a6b-84ca-e33896d62bf4",
   "metadata": {},
   "source": [
    "We wish to fit our data to $f(x) = a_0 + a_1 x$.\n",
    "Here $f(x)$ is a linear polynomial, or rather a _degree_ 1 polynomial.\n",
    "`poly.Polynomial.fit()` requires we provided the polynomial degree."
   ]
  },
  {
   "cell_type": "code",
   "execution_count": 25,
   "id": "9aeeb483-71fd-4198-83dd-2e0a91006779",
   "metadata": {},
   "outputs": [],
   "source": [
    "degree = 1\n",
    "f_1 = poly.Polynomial.fit(x, y, degree)"
   ]
  },
  {
   "cell_type": "code",
   "execution_count": 27,
   "id": "1a621187-d47d-4187-87d3-64c14cbff2ea",
   "metadata": {},
   "outputs": [
    {
     "name": "stdout",
     "output_type": "stream",
     "text": [
      "8.69936143 + 7.19414895·x\n"
     ]
    }
   ],
   "source": [
    "print(f_1)"
   ]
  },
  {
   "cell_type": "code",
   "execution_count": 29,
   "id": "c98cff4d-75e1-49b1-88eb-267ffa255100",
   "metadata": {},
   "outputs": [
    {
     "name": "stdout",
     "output_type": "stream",
     "text": [
      "<class 'numpy.polynomial.polynomial.Polynomial'>\n"
     ]
    }
   ],
   "source": [
    "print(type(f_1))"
   ]
  },
  {
   "cell_type": "markdown",
   "id": "872c9b0f-4b84-45dd-8e1e-884117dd6c4b",
   "metadata": {},
   "source": [
    "To get the coefficients $a_0, a_1$ we do this"
   ]
  },
  {
   "cell_type": "code",
   "execution_count": 32,
   "id": "6df141f2-ab9e-4da5-9af3-baf14f546c17",
   "metadata": {},
   "outputs": [],
   "source": [
    "a = f_1.coef"
   ]
  },
  {
   "cell_type": "code",
   "execution_count": 34,
   "id": "5be5444f-c345-4364-9b37-26c23d12bb95",
   "metadata": {},
   "outputs": [
    {
     "name": "stdout",
     "output_type": "stream",
     "text": [
      "coefficients a [8.69936143 7.19414895]\n"
     ]
    }
   ],
   "source": [
    "print('coefficients a', a)"
   ]
  },
  {
   "cell_type": "markdown",
   "id": "15bb4315-6804-4a23-83f5-e22c8cae0fb9",
   "metadata": {},
   "source": [
    "We can treat `f_1` like a Python function and evaluate it at $x$ values.\n",
    "We evaluate `f_1()` on our evaluation points."
   ]
  },
  {
   "cell_type": "code",
   "execution_count": 37,
   "id": "6023656f-a333-4868-935d-cd216606378a",
   "metadata": {},
   "outputs": [],
   "source": [
    "f_1_eval = f_1(x_eval)"
   ]
  },
  {
   "cell_type": "code",
   "execution_count": 39,
   "id": "62b58ea9-cd16-4c0d-802f-f9ebfc4b35c8",
   "metadata": {},
   "outputs": [
    {
     "data": {
      "image/png": "[encoded data removed]",
      "text/plain": [
       "<Figure size 640x480 with 1 Axes>"
      ]
     },
     "metadata": {},
     "output_type": "display_data"
    }
   ],
   "source": [
    "plt.plot(x, y, 'ok', label='data')\n",
    "plt.plot(x_eval, f_1_eval, '-r', label='f_1(x)')\n",
    "plt.legend(loc='best');"
   ]
  },
  {
   "cell_type": "markdown",
   "id": "81bbf946-b454-445c-baf1-19d286c2ff94",
   "metadata": {},
   "source": [
    "---\n",
    "\n",
    "## Quadratic regression\n",
    "\n",
    "Using $f(x) = a_0 + a_1 x + a_2 x^2$ as our fitting function is a degree 2 polynomial.\n",
    "We can fit this function using `poly.Polynomial.fit()` as well.\n",
    "\n",
    "We just change `degree = 1` to `degree = 2`."
   ]
  },
  {
   "cell_type": "code",
   "execution_count": 41,
   "id": "535bb226-4286-4974-be4c-7810cfb95bde",
   "metadata": {},
   "outputs": [],
   "source": [
    "degree = 2\n",
    "f_2 = poly.Polynomial.fit(x, y, degree)"
   ]
  },
  {
   "cell_type": "markdown",
   "id": "cc04e9b2-3092-4342-b2cb-706f06160d7b",
   "metadata": {},
   "source": [
    "We print the coefficients again. Note that for degree 2 polynomials there are three coeffients $(a_0, a_1, a_2)$."
   ]
  },
  {
   "cell_type": "code",
   "execution_count": 45,
   "id": "c9ff8ce4-779d-4e81-bbde-f092ff3c2818",
   "metadata": {},
   "outputs": [
    {
     "name": "stdout",
     "output_type": "stream",
     "text": [
      "coefficients a [7.44417874 7.19414895 3.08090298]\n"
     ]
    }
   ],
   "source": [
    "a = f_2.coef\n",
    "print('coefficients a', a)"
   ]
  },
  {
   "cell_type": "code",
   "execution_count": 47,
   "id": "48493895-8904-43d3-b035-a7f74308d0a8",
   "metadata": {},
   "outputs": [],
   "source": [
    "f_2_eval = f_2(x_eval)"
   ]
  },
  {
   "cell_type": "code",
   "execution_count": 49,
   "id": "1551def7-45a5-4dd0-8de1-aae729f66db1",
   "metadata": {},
   "outputs": [
    {
     "data": {
      "image/png": "[encoded data removed]",
      "text/plain": [
       "<Figure size 640x480 with 1 Axes>"
      ]
     },
     "metadata": {},
     "output_type": "display_data"
    }
   ],
   "source": [
    "plt.plot(x, y, 'ok', label='data')\n",
    "plt.plot(x_eval, f_2_eval, '-r', label='f_1(x)')\n",
    "plt.legend(loc='best');"
   ]
  },
  {
   "cell_type": "markdown",
   "id": "0db710dd-6131-4f41-a613-fecbd3ae6a91",
   "metadata": {},
   "source": [
    "---\n",
    "\n",
    "## Least squares regression with general functions $f(x)$."
   ]
  },
  {
   "cell_type": "markdown",
   "id": "80ee575c-ec00-4763-8a60-3109f9289508",
   "metadata": {},
   "source": [
    "If you wish to perform least squares regression with a general function which is not a polynomial, you can use the function from `scipy.optimize` called `curve_fit`. Let's import that"
   ]
  },
  {
   "cell_type": "code",
   "execution_count": 53,
   "id": "c2c38613-744d-43e9-98ab-12a66bdca3e3",
   "metadata": {},
   "outputs": [],
   "source": [
    "from scipy.optimize import curve_fit"
   ]
  },
  {
   "cell_type": "markdown",
   "id": "51b8bb63-d46c-49c3-954b-1d6b7394aba9",
   "metadata": {},
   "source": [
    "Now we define a Python function which evaluates our general $f(x)$. \n",
    "For illustration we will use a quadratic function just to illustate that `curve_fit` produces the same results as `Polynomial.fit`."
   ]
  },
  {
   "cell_type": "code",
   "execution_count": 55,
   "id": "6698fafb-dc08-4fca-a9ff-1921aed121ca",
   "metadata": {},
   "outputs": [],
   "source": [
    "def general_func(x, a0, a1, a2):\n",
    "    return a0 + a1 * x  + a2 * x**2"
   ]
  },
  {
   "cell_type": "markdown",
   "id": "6d5cc94e-b72d-46c1-9c3c-76826668cb5e",
   "metadata": {},
   "source": [
    "They we call `curve_fit()`, providing it out $f(x)$ (which is called `general_func()` and our `x` and `y` data."
   ]
  },
  {
   "cell_type": "code",
   "execution_count": 57,
   "id": "301f3c11-9578-4686-90c9-cf03122d7a96",
   "metadata": {},
   "outputs": [],
   "source": [
    "popt, pcov = curve_fit(general_func, x, y)"
   ]
  },
  {
   "cell_type": "markdown",
   "id": "a940057e-536b-4742-9554-9f575a9a35d3",
   "metadata": {},
   "source": [
    "`popt` contains our coefficients `a0`, `a1` and `a2`."
   ]
  },
  {
   "cell_type": "code",
   "execution_count": 62,
   "id": "4874c961-fa99-4d67-82fa-f3099681eb85",
   "metadata": {},
   "outputs": [
    {
     "name": "stdout",
     "output_type": "stream",
     "text": [
      "[3.33093289 1.03234263 3.08090316]\n"
     ]
    }
   ],
   "source": [
    "print(popt)"
   ]
  },
  {
   "cell_type": "markdown",
   "id": "b167af6f-b8d7-488d-8d61-bd5ef56553c5",
   "metadata": {},
   "source": [
    "As before, we wish to plot our fitted function so we evaluate $f(x)$ on our sample points."
   ]
  },
  {
   "cell_type": "code",
   "execution_count": 65,
   "id": "bed902a3-92b5-4538-a6f1-281c455c3ae9",
   "metadata": {},
   "outputs": [],
   "source": [
    "f_gen_eval = general_func(x_eval, popt[0], popt[1], popt[2])"
   ]
  },
  {
   "cell_type": "markdown",
   "id": "383d6aa5-4cf9-440b-8272-ea5f0a62da4e",
   "metadata": {},
   "source": [
    "And then plot the $f(x)$, along with our x data and y data to see how good the fit actually is, and to be able to compare it with what `Polynomial.fit` gave us."
   ]
  },
  {
   "cell_type": "code",
   "execution_count": 68,
   "id": "59032b77-9121-4960-876c-f56789df8745",
   "metadata": {},
   "outputs": [
    {
     "data": {
      "image/png": "[encoded data removed]",
      "text/plain": [
       "<Figure size 640x480 with 1 Axes>"
      ]
     },
     "metadata": {},
     "output_type": "display_data"
    }
   ],
   "source": [
    "plt.plot(x, y, 'ok', label='data')\n",
    "plt.plot(x_eval, f_gen_eval, '-r', label='f_1(x)')\n",
    "plt.legend(loc='best');"
   ]
  },
  {
   "cell_type": "markdown",
   "id": "441ac372-97ef-4637-8038-c0a3c4179c14",
   "metadata": {},
   "source": [
    "Visual inspection reveals the curve obainted is the same (or very very similar)."
   ]
  },
  {
   "cell_type": "markdown",
   "id": "cdcf90e0-be61-4d90-a346-bf4487bb9c3d",
   "metadata": {},
   "source": [
    "For fun, we compute the difference on our evaluation points between what we got with `Polynomial.fit` and `curve_fit`."
   ]
  },
  {
   "cell_type": "code",
   "execution_count": 72,
   "id": "a18f3173-7b20-4615-87d1-dc9b51ac39da",
   "metadata": {},
   "outputs": [],
   "source": [
    "diff = f_gen_eval - f_2_eval"
   ]
  },
  {
   "cell_type": "code",
   "execution_count": 74,
   "id": "07e39999-2fa8-494e-9a8a-b11ebb0ec371",
   "metadata": {},
   "outputs": [
    {
     "data": {
      "text/plain": [
       "1.310965460632474e-07"
      ]
     },
     "execution_count": 74,
     "metadata": {},
     "output_type": "execute_result"
    }
   ],
   "source": [
    "numpy.max(numpy.absolute(diff))"
   ]
  },
  {
   "cell_type": "markdown",
   "id": "8a0dd108-6b80-4969-8b0c-a5cf59a3743d",
   "metadata": {},
   "source": [
    "Okay, they are not idential but the largest difference is $O(10^{-7}$. \n",
    "We may have suspected they are not identical given the coefficients obtained for `a0`, `a1` and `a2` were slightly different.\n",
    "The difference in coefficients computed is due the the fact that `curve_fit` uses a different solver to compute the coefficients. `Polynomial.fit` uses an exact solver whilst `curve_fit` uses an iterative solver which does not provide _exact_ answers."
   ]
  }
 ],
 "metadata": {
  "kernelspec": {
   "display_name": "Python 3 (ipykernel)",
   "language": "python",
   "name": "python3"
  },
  "language_info": {
   "codemirror_mode": {
    "name": "ipython",
    "version": 3
   },
   "file_extension": ".py",
   "mimetype": "text/x-python",
   "name": "python",
   "nbconvert_exporter": "python",
   "pygments_lexer": "ipython3",
   "version": "3.12.4"
  }
 },
 "nbformat": 4,
 "nbformat_minor": 5
}
