{
 "cells": [
  {
   "cell_type": "markdown",
   "id": "efdce87d-497b-45bf-a3d6-88cccba05f10",
   "metadata": {},
   "source": [
    "# Nonlinear solvers in Python"
   ]
  },
  {
   "cell_type": "code",
   "execution_count": 2,
   "id": "80829b96-2d86-473e-9af2-71f53ca0b6c7",
   "metadata": {},
   "outputs": [],
   "source": [
    "import numpy\n",
    "import scipy"
   ]
  },
  {
   "cell_type": "markdown",
   "id": "0831fb85-5d4b-416f-b0e3-1dcd0b7fc293",
   "metadata": {},
   "source": [
    "## Scalar (univariate) nonlinear problems"
   ]
  },
  {
   "cell_type": "markdown",
   "id": "b0dd5f42-a257-4f83-8adb-266d6c52d02d",
   "metadata": {},
   "source": [
    "### Bisection method"
   ]
  },
  {
   "cell_type": "markdown",
   "id": "53669b3b-9d4d-4732-ad5e-064db4c66516",
   "metadata": {},
   "source": [
    "Consider the nonlinear problem given by\n",
    "$$\n",
    "    F(x) = x^3 - a\n",
    "$$\n",
    "where $a$ is a constant defined by the user."
   ]
  },
  {
   "cell_type": "code",
   "execution_count": 7,
   "id": "828035fe-373f-4901-9e13-cde8e3583a04",
   "metadata": {},
   "outputs": [],
   "source": [
    "def residual(x, a):\n",
    "    return x**3 - a"
   ]
  },
  {
   "cell_type": "code",
   "execution_count": 9,
   "id": "cb5a54b8-c445-4956-bd99-d942454436a8",
   "metadata": {},
   "outputs": [],
   "source": [
    "# Initial interval\n",
    "x_L = 0.0\n",
    "x_U = 2.0\n",
    "\n",
    "# Parameter for residual\n",
    "a = 1.134\n",
    "\n",
    "result = scipy.optimize.bisect(residual, x_L, x_U, args = (a, ), \\\n",
    "                               xtol = 1.0e-10, rtol = 1.0e-10, \\\n",
    "                               full_output=True)"
   ]
  },
  {
   "cell_type": "code",
   "execution_count": 11,
   "id": "d6a7bebf-c1d4-4de7-aedf-56a6ae3a7420",
   "metadata": {},
   "outputs": [
    {
     "name": "stdout",
     "output_type": "stream",
     "text": [
      "(1.0428079933626577,       converged: True\n",
      "           flag: converged\n",
      " function_calls: 36\n",
      "     iterations: 34\n",
      "           root: 1.0428079933626577\n",
      "         method: bisect)\n"
     ]
    }
   ],
   "source": [
    "print(result)"
   ]
  },
  {
   "cell_type": "markdown",
   "id": "6915e050-cc36-499b-ad19-f485c2a51b8d",
   "metadata": {},
   "source": [
    "The solution can be accessed at `result[0]`."
   ]
  },
  {
   "cell_type": "code",
   "execution_count": 14,
   "id": "f1bdad21-66d1-4339-a54d-41f576ad803c",
   "metadata": {},
   "outputs": [
    {
     "name": "stdout",
     "output_type": "stream",
     "text": [
      "x = 1.0428079933626577\n"
     ]
    }
   ],
   "source": [
    "x = result[0]\n",
    "print('x =', x)"
   ]
  },
  {
   "cell_type": "code",
   "execution_count": 16,
   "id": "4305c873-3c43-44f7-a051-c61c7258120f",
   "metadata": {},
   "outputs": [
    {
     "name": "stdout",
     "output_type": "stream",
     "text": [
      "F(x) = -3.3692582057653908e-10\n"
     ]
    }
   ],
   "source": [
    "print('F(x) =', '%1.16e'%residual(x, a))"
   ]
  },
  {
   "cell_type": "markdown",
   "id": "d2cf66a8-b0e8-44e4-beea-c160f2b9a6b5",
   "metadata": {},
   "source": [
    "### Newton's method"
   ]
  },
  {
   "cell_type": "markdown",
   "id": "27619dbb-6114-4b39-b8a8-76df5ccbac02",
   "metadata": {},
   "source": [
    "Scalar problems will be solved via Newton's method using `scipy.optimize.newton()`"
   ]
  },
  {
   "cell_type": "markdown",
   "id": "555e0595-993e-4c78-a8ab-0b974e0811f9",
   "metadata": {},
   "source": [
    "Consider the nonlinear problem given by\n",
    "$$\n",
    "    F(x) = x^3 - a\n",
    "$$\n",
    "where $a$ is a constant defined by the user."
   ]
  },
  {
   "cell_type": "code",
   "execution_count": 21,
   "id": "3fc1157b-13f3-499e-8dc8-c4f08b8294ff",
   "metadata": {},
   "outputs": [],
   "source": [
    "def residual(x, a):\n",
    "    return x**3 - a"
   ]
  },
  {
   "cell_type": "code",
   "execution_count": 23,
   "id": "ba83799c-7674-4a59-8f40-4a7cc2e07c1d",
   "metadata": {},
   "outputs": [],
   "source": [
    "def jacobian(x, a):\n",
    "    return 3.0*x**2 "
   ]
  },
  {
   "cell_type": "code",
   "execution_count": 25,
   "id": "3c9c81b7-a074-4076-babb-1af126d73ddd",
   "metadata": {},
   "outputs": [],
   "source": [
    "x0 = 0.1\n",
    "\n",
    "a = 1.134\n",
    "\n",
    "result = scipy.optimize.newton(residual, x0, fprime=jacobian, args=(a, ), \\\n",
    "                               tol=1.0e-5, rtol=1.0e-5, maxiter=200, \\\n",
    "                               full_output=True)"
   ]
  },
  {
   "cell_type": "code",
   "execution_count": 27,
   "id": "2f352249-1b24-4670-a8db-f0b8cbe45be4",
   "metadata": {},
   "outputs": [
    {
     "name": "stdout",
     "output_type": "stream",
     "text": [
      "(1.0428079934659618,       converged: True\n",
      "           flag: converged\n",
      " function_calls: 28\n",
      "     iterations: 14\n",
      "           root: 1.0428079934659618\n",
      "         method: newton)\n"
     ]
    }
   ],
   "source": [
    "print(result)"
   ]
  },
  {
   "cell_type": "markdown",
   "id": "ed5892f8-8b41-493b-a29e-652e547f29d5",
   "metadata": {},
   "source": [
    "The result can be accessed at `result[0]`."
   ]
  },
  {
   "cell_type": "code",
   "execution_count": 30,
   "id": "696d34de-c6f7-4558-9358-6c33aaeaf9a9",
   "metadata": {},
   "outputs": [
    {
     "name": "stdout",
     "output_type": "stream",
     "text": [
      "x = 1.0428079934659618\n"
     ]
    }
   ],
   "source": [
    "x = result[0]\n",
    "print('x =', x)"
   ]
  },
  {
   "cell_type": "code",
   "execution_count": 32,
   "id": "4887eb9f-2561-463d-a1ad-7e128eeffb8d",
   "metadata": {},
   "outputs": [
    {
     "name": "stdout",
     "output_type": "stream",
     "text": [
      "F(x) = 8.7707618945387367e-14\n"
     ]
    }
   ],
   "source": [
    "print('F(x) =', '%1.16e'%residual(x, a))"
   ]
  },
  {
   "cell_type": "markdown",
   "id": "a434ee67-ae16-4229-bd86-777235222402",
   "metadata": {},
   "source": [
    "## Vector (multi-variate) nonlinear problems"
   ]
  },
  {
   "cell_type": "markdown",
   "id": "48a514c2-8649-4fe6-8692-891c42067693",
   "metadata": {},
   "source": [
    "### Newton's method for systems"
   ]
  },
  {
   "cell_type": "markdown",
   "id": "1aaa6238-edb7-400f-ae06-df1d7e0db7ce",
   "metadata": {},
   "source": [
    "Multi-variate problems can be solved via Newton-like methods using `scipy.optimize.fsolve()`"
   ]
  },
  {
   "cell_type": "markdown",
   "id": "bc7435ba-b2c9-42fc-a3de-769e4a1ae727",
   "metadata": {},
   "source": [
    "Consider the nonlinear problem given by\n",
    "$$\n",
    "    F_1(x_1, x_2) = x_1 \\cos(x_2) - 4\n",
    "$$\n",
    "$$\n",
    "    F_2(x_1, x_2) = x_2 x_1 - x_2 - 5\n",
    "$$\n"
   ]
  },
  {
   "cell_type": "code",
   "execution_count": 38,
   "id": "39cacd97-99ed-4a1f-a47a-cf2d87d4c53f",
   "metadata": {},
   "outputs": [],
   "source": [
    "def residual_sys(x):\n",
    "    F = numpy.zeros(x.shape[0])\n",
    "    F[0] = x[0] * numpy.cos(x[1]) - 4.0\n",
    "    F[1] = x[1] * x[0] - x[1] - 5.0\n",
    "    return F"
   ]
  },
  {
   "cell_type": "code",
   "execution_count": 40,
   "id": "9635d517-2920-4188-8180-a1f929b63781",
   "metadata": {},
   "outputs": [],
   "source": [
    "def jacobian_sys(x):\n",
    "    J = numpy.zeros((x.shape[0], x.shape[0]))\n",
    "    J[0, 0] = numpy.cos(x[1])\n",
    "    J[0, 1] = -x[0] * numpy.sin(x[1])\n",
    "    J[1, 0] = x[1]\n",
    "    J[1, 1] = x[0] - 1.0\n",
    "    return J"
   ]
  },
  {
   "cell_type": "code",
   "execution_count": 42,
   "id": "ca71dd75-e11d-4d65-8550-999a7a059da8",
   "metadata": {},
   "outputs": [],
   "source": [
    "x0 = numpy.ones(2)\n",
    "\n",
    "result = scipy.optimize.fsolve(residual_sys, x0, fprime=jacobian_sys, \\\n",
    "                               xtol=1.0e-4, \\\n",
    "                               full_output=True)"
   ]
  },
  {
   "cell_type": "code",
   "execution_count": 44,
   "id": "1845fd42-185f-4e7d-b70c-014d79aed080",
   "metadata": {},
   "outputs": [
    {
     "name": "stdout",
     "output_type": "stream",
     "text": [
      "(array([6.50411586, 0.90841544]), {'nfev': 11, 'njev': 2, 'fjac': array([[-0.54100421, -0.84101988],\n",
      "       [ 0.84101988, -0.54100421]]), 'r': array([-1.16582637, -2.10438544, -7.38324227]), 'qtf': array([-0.00033357, -0.0001816 ]), 'fvec': array([5.22578864e-06, 2.38118056e-05])}, 1, 'The solution converged.')\n"
     ]
    }
   ],
   "source": [
    "print(result)"
   ]
  },
  {
   "cell_type": "markdown",
   "id": "0d9ad02e-bab0-4fd0-a4f4-de6193a5c82e",
   "metadata": {},
   "source": [
    "The solution can be accessed using `result[0]`"
   ]
  },
  {
   "cell_type": "code",
   "execution_count": 47,
   "id": "647f046d-7bf8-4852-b207-47676782fe17",
   "metadata": {},
   "outputs": [
    {
     "name": "stdout",
     "output_type": "stream",
     "text": [
      "x = [6.50411586 0.90841544]\n"
     ]
    }
   ],
   "source": [
    "x = result[0]\n",
    "print('x =', x)"
   ]
  },
  {
   "cell_type": "code",
   "execution_count": 49,
   "id": "9d346168-0b0f-4124-9052-d105bb668ee2",
   "metadata": {},
   "outputs": [
    {
     "name": "stdout",
     "output_type": "stream",
     "text": [
      "F(x) = [5.22578864e-06 2.38118056e-05]\n"
     ]
    }
   ],
   "source": [
    "print('F(x) =', residual_sys(x))"
   ]
  }
 ],
 "metadata": {
  "kernelspec": {
   "display_name": "Python 3 (ipykernel)",
   "language": "python",
   "name": "python3"
  },
  "language_info": {
   "codemirror_mode": {
    "name": "ipython",
    "version": 3
   },
   "file_extension": ".py",
   "mimetype": "text/x-python",
   "name": "python",
   "nbconvert_exporter": "python",
   "pygments_lexer": "ipython3",
   "version": "3.12.4"
  }
 },
 "nbformat": 4,
 "nbformat_minor": 5
}
