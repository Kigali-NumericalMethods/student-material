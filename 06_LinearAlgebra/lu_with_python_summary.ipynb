{
 "cells": [
  {
   "cell_type": "markdown",
   "id": "f54c51c6-1eac-4dfe-aa59-929d07a83b96",
   "metadata": {},
   "source": [
    "# Summary of triangular solves and LU factorization in Python for dense and sparse matrices"
   ]
  },
  {
   "cell_type": "code",
   "execution_count": 2,
   "id": "180c2c26-364f-4bf6-b4b2-3daef7c3c08d",
   "metadata": {},
   "outputs": [],
   "source": [
    "import numpy\n",
    "import scipy"
   ]
  },
  {
   "cell_type": "markdown",
   "id": "262eebb3-2742-4b0b-b36b-b41084fa9d7f",
   "metadata": {},
   "source": [
    "## Triangular solves"
   ]
  },
  {
   "cell_type": "markdown",
   "id": "fe996f1a-e5e8-4098-844c-9fec9e3a582c",
   "metadata": {},
   "source": [
    "---\n",
    "### Dense matrices"
   ]
  },
  {
   "cell_type": "code",
   "execution_count": 5,
   "id": "d808269b-e3ef-431c-8418-84c47b39c470",
   "metadata": {},
   "outputs": [],
   "source": [
    "A = numpy.array([[3.0, 0.0, 0.0, 0.0], \n",
    "                 [2.0, 1.0, 0.0, 0.0], \n",
    "                 [1.0, 0.0, 1.0, 0.0], \n",
    "                 [1.0, 1.0, 1.0, 1.0]])\n",
    "b = numpy.array([4.0, 2.0, 4.0, 2.0])"
   ]
  },
  {
   "cell_type": "code",
   "execution_count": 6,
   "id": "adb33570-2c71-4861-878d-781edc410479",
   "metadata": {},
   "outputs": [
    {
     "name": "stdout",
     "output_type": "stream",
     "text": [
      "A [[3. 0. 0. 0.]\n",
      " [2. 1. 0. 0.]\n",
      " [1. 0. 1. 0.]\n",
      " [1. 1. 1. 1.]]\n"
     ]
    }
   ],
   "source": [
    "print('A', A)"
   ]
  },
  {
   "cell_type": "code",
   "execution_count": 7,
   "id": "0e8fa0bb-7c0a-4c5a-abef-367660257583",
   "metadata": {},
   "outputs": [],
   "source": [
    "x = scipy.linalg.solve_triangular(A, b, lower=True)"
   ]
  },
  {
   "cell_type": "code",
   "execution_count": 8,
   "id": "f5d82429-2590-48db-be89-d080ffe6faf4",
   "metadata": {},
   "outputs": [
    {
     "name": "stdout",
     "output_type": "stream",
     "text": [
      "x [ 1.33333333 -0.66666667  2.66666667 -1.33333333]\n"
     ]
    }
   ],
   "source": [
    "print('x', x)"
   ]
  },
  {
   "cell_type": "markdown",
   "id": "7480fbb3-0be7-47ae-9e1a-ce06089f896a",
   "metadata": {},
   "source": [
    "---\n",
    "### Sparse matrices"
   ]
  },
  {
   "cell_type": "code",
   "execution_count": 10,
   "id": "59fb76ca-bdba-4f7f-b849-4917b64dd942",
   "metadata": {},
   "outputs": [],
   "source": [
    "A = numpy.array([[3.0, 0.0, 0.0, 0.0], \n",
    "                 [2.0, 1.0, 0.0, 0.0], \n",
    "                 [1.0, 0.0, 1.0, 0.0], \n",
    "                 [1.0, 1.0, 1.0, 1.0]])\n",
    "b = numpy.array([4.0, 2.0, 4.0, 2.0])"
   ]
  },
  {
   "cell_type": "code",
   "execution_count": 11,
   "id": "53c5b002-55c4-48cd-a742-dd01aaa6e717",
   "metadata": {},
   "outputs": [
    {
     "name": "stdout",
     "output_type": "stream",
     "text": [
      "  (0, 0)\t3.0\n",
      "  (1, 0)\t2.0\n",
      "  (1, 1)\t1.0\n",
      "  (2, 0)\t1.0\n",
      "  (2, 2)\t1.0\n",
      "  (3, 0)\t1.0\n",
      "  (3, 1)\t1.0\n",
      "  (3, 2)\t1.0\n",
      "  (3, 3)\t1.0\n"
     ]
    }
   ],
   "source": [
    "# Convert to CSR\n",
    "As_csr = scipy.sparse.csr_array(A)\n",
    "print(As_csr)"
   ]
  },
  {
   "cell_type": "code",
   "execution_count": 12,
   "id": "c162d0d2-6fe8-4500-9654-ca5cf5926a41",
   "metadata": {},
   "outputs": [],
   "source": [
    "x = scipy.sparse.linalg.spsolve_triangular(As_csr, b)"
   ]
  },
  {
   "cell_type": "code",
   "execution_count": 13,
   "id": "3136bc23-629d-4353-be5e-cad368341f92",
   "metadata": {},
   "outputs": [
    {
     "name": "stdout",
     "output_type": "stream",
     "text": [
      "x [ 1.33333333 -0.66666667  2.66666667 -1.33333333]\n"
     ]
    }
   ],
   "source": [
    "print('x', x)"
   ]
  },
  {
   "cell_type": "markdown",
   "id": "65f758bc-4a53-48c4-be85-c3b4200ab075",
   "metadata": {},
   "source": [
    "## LU solve\n",
    "\n",
    "This function use LU factorization but do not give you direct access to the $\\mathbf L$ and $\\mathbf U$ factors. These methods are not suited to solve problems involving many right-hand-side vectors in which $\\mathbf A$ remains constant."
   ]
  },
  {
   "cell_type": "markdown",
   "id": "1a3090f8-6c7d-47d6-a545-55d74438c84f",
   "metadata": {},
   "source": [
    "---\n",
    "### Dense matrices"
   ]
  },
  {
   "cell_type": "code",
   "execution_count": 16,
   "id": "600f44c9-59bd-4d51-b119-4e8f734388b9",
   "metadata": {},
   "outputs": [],
   "source": [
    "A = numpy.array([[ 3.0 ,  2.0 , -1.0 ],\n",
    "                 [ 2.0 , -2.0 ,  4.0 ],\n",
    "                 [-1.0 ,  0.5,  -1.0 ]])\n",
    "b = numpy.array([1.0, -2.0, 0])"
   ]
  },
  {
   "cell_type": "code",
   "execution_count": 17,
   "id": "a63853d5-f202-4109-ab7f-9c37ba6891cd",
   "metadata": {},
   "outputs": [],
   "source": [
    "x = scipy.linalg.solve(A, b)"
   ]
  },
  {
   "cell_type": "code",
   "execution_count": 18,
   "id": "d3ece9ff-bb7e-46fe-afb1-8da424467aaf",
   "metadata": {},
   "outputs": [
    {
     "name": "stdout",
     "output_type": "stream",
     "text": [
      "x [ 1. -2. -2.]\n"
     ]
    }
   ],
   "source": [
    "print('x', x)"
   ]
  },
  {
   "cell_type": "markdown",
   "id": "3bb276ca-3ae0-4f51-909e-f3ca638a984a",
   "metadata": {},
   "source": [
    "---\n",
    "### Sparse matrices"
   ]
  },
  {
   "cell_type": "code",
   "execution_count": 20,
   "id": "83641f0b-baae-4e40-9444-d54781f6a635",
   "metadata": {},
   "outputs": [],
   "source": [
    "A = numpy.array([[ 3.0 ,  2.0 , -1.0 ],\n",
    "                 [ 2.0 , -2.0 ,  4.0 ],\n",
    "                 [-1.0 ,  0.5,  -1.0 ]])\n",
    "b = numpy.array([1.0, -2.0, 0])"
   ]
  },
  {
   "cell_type": "code",
   "execution_count": 21,
   "id": "ca5fbcdf-0d20-4297-b2d5-43d3feb7bebe",
   "metadata": {},
   "outputs": [
    {
     "name": "stdout",
     "output_type": "stream",
     "text": [
      "  (0, 0)\t3.0\n",
      "  (0, 1)\t2.0\n",
      "  (0, 2)\t-1.0\n",
      "  (1, 0)\t2.0\n",
      "  (1, 1)\t-2.0\n",
      "  (1, 2)\t4.0\n",
      "  (2, 0)\t-1.0\n",
      "  (2, 1)\t0.5\n",
      "  (2, 2)\t-1.0\n"
     ]
    }
   ],
   "source": [
    "# Convert to CSR or CSC\n",
    "As_csr = scipy.sparse.csr_array(A)\n",
    "print(As_csr)"
   ]
  },
  {
   "cell_type": "code",
   "execution_count": 22,
   "id": "5d5c4921-dfa1-46e4-bba0-f77660c88bfd",
   "metadata": {},
   "outputs": [
    {
     "name": "stderr",
     "output_type": "stream",
     "text": [
      "/var/folders/8s/2f2dl56n2z5fstgwsqb7yf1m0000gn/T/ipykernel_38415/1921780061.py:1: SparseEfficiencyWarning: spsolve requires A be CSC or CSR matrix format\n",
      "  x = scipy.sparse.linalg.spsolve(A, b)\n"
     ]
    }
   ],
   "source": [
    "x = scipy.sparse.linalg.spsolve(A, b)"
   ]
  },
  {
   "cell_type": "code",
   "execution_count": 23,
   "id": "fbe3548d-e8e4-4017-9e3a-0c59d91d2f0e",
   "metadata": {},
   "outputs": [
    {
     "name": "stdout",
     "output_type": "stream",
     "text": [
      "x [ 1. -2. -2.]\n"
     ]
    }
   ],
   "source": [
    "\n",
    "print('x', x)"
   ]
  },
  {
   "cell_type": "markdown",
   "id": "ffdedbd4-5f03-4a2a-8258-2b1f73a9937d",
   "metadata": {},
   "source": [
    "## LU factorization + solve\n",
    "\n",
    "This function use LU factorization. They provide access to the $\\mathbf L$ and $\\mathbf U$ factors hence they can be used to efficiently solve problems with multiple right-hand-side vectors."
   ]
  },
  {
   "cell_type": "markdown",
   "id": "3f620251-1c59-4c7a-8d29-f638d63ffcde",
   "metadata": {},
   "source": [
    "---\n",
    "### Dense matrices"
   ]
  },
  {
   "cell_type": "code",
   "execution_count": 26,
   "id": "59f88968-6ae9-43bb-a2fc-83f1f869fc4a",
   "metadata": {},
   "outputs": [],
   "source": [
    "A = numpy.array([[ 3.0 ,  2.0 , -1.0 ],\n",
    "                 [ 2.0 , -2.0 ,  4.0 ],\n",
    "                 [-1.0 ,  0.5,  -1.0 ]])\n",
    "b = numpy.array([1.0, -2.0, 0])"
   ]
  },
  {
   "cell_type": "markdown",
   "id": "6d131af7-746f-4dfe-a2e5-e2d2e7be37b8",
   "metadata": {},
   "source": [
    "Perform the LU factorization"
   ]
  },
  {
   "cell_type": "code",
   "execution_count": 28,
   "id": "575c3f47-0d64-450c-84dd-fa2ad4c33509",
   "metadata": {},
   "outputs": [],
   "source": [
    "lu, piv = scipy.linalg.lu_factor(A)"
   ]
  },
  {
   "cell_type": "markdown",
   "id": "bbf8bd15-bf03-4b71-9832-3a7fab6d6da2",
   "metadata": {},
   "source": [
    "Apply the action of the inverse of $\\mathbf L$ and $\\mathbf U$ on $\\mathbf b$"
   ]
  },
  {
   "cell_type": "code",
   "execution_count": 30,
   "id": "e06b1b03-fea5-4847-9201-5d2c13eb1dc6",
   "metadata": {},
   "outputs": [],
   "source": [
    "x = scipy.linalg.lu_solve((lu, piv), b)"
   ]
  },
  {
   "cell_type": "code",
   "execution_count": 31,
   "id": "ef8f0132-3a4d-4036-a6f3-7c20cb480358",
   "metadata": {},
   "outputs": [
    {
     "name": "stdout",
     "output_type": "stream",
     "text": [
      "x [ 1. -2. -2.]\n"
     ]
    }
   ],
   "source": [
    "print('x', x)"
   ]
  },
  {
   "cell_type": "markdown",
   "id": "466e16a7-36ee-43ed-809f-80832a7234a1",
   "metadata": {},
   "source": [
    "---\n",
    "### Sparse matrices"
   ]
  },
  {
   "cell_type": "code",
   "execution_count": 33,
   "id": "a2a84dfd-5cda-4da0-bf24-1565581f1dee",
   "metadata": {},
   "outputs": [],
   "source": [
    "Ad = numpy.array([[ 3.0 ,  2.0 , -1.0 ],\n",
    "                  [ 2.0 , -2.0 ,  4.0 ],\n",
    "                  [-1.0 ,  0.5,  -1.0 ]])\n",
    "b = numpy.array([1.0, -2.0, 0])"
   ]
  },
  {
   "cell_type": "code",
   "execution_count": 34,
   "id": "57b69af3-a2be-4c64-9278-e45a1e22756b",
   "metadata": {},
   "outputs": [],
   "source": [
    "# Convert Ad to sparse of type CSC or CSR\n",
    "As_csc = scipy.sparse.csc_array(A)\n",
    "As_csr = scipy.sparse.csr_array(A)"
   ]
  },
  {
   "cell_type": "code",
   "execution_count": 35,
   "id": "ea885c45-5889-4359-828b-a810081e0bd7",
   "metadata": {},
   "outputs": [],
   "source": [
    "solve = scipy.sparse.linalg.factorized(As_csc) # Makes LU decomposition for CSC\n",
    "x = solve(b) # Uses the LU factors."
   ]
  },
  {
   "cell_type": "code",
   "execution_count": 36,
   "id": "86a96a22-f07f-44e7-a6bd-7e5b80db2e25",
   "metadata": {},
   "outputs": [
    {
     "name": "stdout",
     "output_type": "stream",
     "text": [
      "x [ 1. -2. -2.]\n"
     ]
    }
   ],
   "source": [
    "print('x', x)"
   ]
  },
  {
   "cell_type": "code",
   "execution_count": 37,
   "id": "8b71b8c4-789a-48bd-8c30-82f79fbffb4f",
   "metadata": {},
   "outputs": [
    {
     "name": "stderr",
     "output_type": "stream",
     "text": [
      "/opt/anaconda3/lib/python3.12/site-packages/scipy/sparse/linalg/_dsolve/linsolve.py:603: SparseEfficiencyWarning: splu converted its input to CSC format\n",
      "  return splu(A).solve\n"
     ]
    }
   ],
   "source": [
    "solve = scipy.sparse.linalg.factorized(As_csr) # Makes LU decomposition for CSR\n",
    "x = solve(b) # Uses the LU factors."
   ]
  },
  {
   "cell_type": "code",
   "execution_count": 38,
   "id": "01967873-8513-4800-867a-15b35c10605a",
   "metadata": {},
   "outputs": [
    {
     "name": "stdout",
     "output_type": "stream",
     "text": [
      "x [ 1. -2. -2.]\n"
     ]
    }
   ],
   "source": [
    "print('x', x)"
   ]
  }
 ],
 "metadata": {
  "kernelspec": {
   "display_name": "Python 3 (ipykernel)",
   "language": "python",
   "name": "python3"
  },
  "language_info": {
   "codemirror_mode": {
    "name": "ipython",
    "version": 3
   },
   "file_extension": ".py",
   "mimetype": "text/x-python",
   "name": "python",
   "nbconvert_exporter": "python",
   "pygments_lexer": "ipython3",
   "version": "3.12.4"
  }
 },
 "nbformat": 4,
 "nbformat_minor": 5
}
