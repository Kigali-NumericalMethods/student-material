{
 "cells": [
  {
   "cell_type": "markdown",
   "id": "ac6fc03c-5521-4954-8a2f-4cb7bc2ab6b6",
   "metadata": {},
   "source": [
    "# Python for Numerical Methods - Part 1"
   ]
  },
  {
   "cell_type": "markdown",
   "id": "b66948af-3d15-4d87-a31e-c54b30d3d28b",
   "metadata": {},
   "source": [
    "## Objectives\n",
    "\n",
    "In this tutorial you will learn \n",
    "* Basic data types Python useful for numerical methods\n",
    "* How to assign values to variables\n",
    "* How to detect and report illegal (undesired) behaviour in Python code\n",
    "* How to control the flow of information using conditional statements\n",
    "* How to perform repetitive statements with loops\n",
    "* How to display numbers"
   ]
  },
  {
   "cell_type": "markdown",
   "id": "1bef6762-d455-4344-9882-eaf0dfe63a8d",
   "metadata": {},
   "source": [
    "---\n",
    "## Data types\n",
    "\n",
    "### Data types for representing numbers\n",
    "* integers (`int`)\n",
    "* real numbers (`float`)\n",
    "* complex numbers (`complex`)\n",
    "\n",
    "### Other useful data types\n",
    "* character stings\n",
    "* boolean (true, false)"
   ]
  },
  {
   "cell_type": "markdown",
   "id": "c2e7908a-06cd-4ab4-be1a-14900b8c674e",
   "metadata": {},
   "source": [
    "---"
   ]
  },
  {
   "cell_type": "markdown",
   "id": "82ded8b9-00d6-4ee7-a962-b61287962374",
   "metadata": {},
   "source": [
    "## Variable assignment\n",
    "\n",
    "Suppose we wish to declare a variable `x` and set its value to the integer 12. \n",
    "We can do this pretty simply as"
   ]
  },
  {
   "cell_type": "code",
   "execution_count": 6,
   "id": "57410a20-5820-4d77-99d2-c82abe64faed",
   "metadata": {},
   "outputs": [],
   "source": [
    "x = 12"
   ]
  },
  {
   "cell_type": "markdown",
   "id": "d26f9660-f13d-4c96-b0b7-3ea445b0f4a0",
   "metadata": {},
   "source": [
    "Note that Python figures out you want an integer assigned to `x` by the absence of a decimal point.\n",
    "If one wanted to be really explicit about it, the assignment could be done this way"
   ]
  },
  {
   "cell_type": "code",
   "execution_count": 8,
   "id": "73b88da5-ba97-4c57-8d3e-16e5ba2ee3fa",
   "metadata": {},
   "outputs": [],
   "source": [
    "x = int(12)"
   ]
  },
  {
   "cell_type": "markdown",
   "id": "e2ac009f-d74a-44eb-86a6-63ad1b118903",
   "metadata": {},
   "source": [
    "If you want to check the value of a variable, use `print()`. For instance"
   ]
  },
  {
   "cell_type": "code",
   "execution_count": 10,
   "id": "e1210fd3-98e6-4190-a5d3-a1dd131e9f7b",
   "metadata": {},
   "outputs": [
    {
     "name": "stdout",
     "output_type": "stream",
     "text": [
      "12\n"
     ]
    }
   ],
   "source": [
    "print(x)"
   ]
  },
  {
   "cell_type": "markdown",
   "id": "f02dc92b-b2f8-4373-96ad-11321201dfa9",
   "metadata": {},
   "source": [
    "If you wanted to check the data type Python is using to represent your variable, use the built-in function `type`. For example"
   ]
  },
  {
   "cell_type": "code",
   "execution_count": 12,
   "id": "1414f791-8417-4467-8d1a-5492a9c60962",
   "metadata": {},
   "outputs": [
    {
     "name": "stdout",
     "output_type": "stream",
     "text": [
      "<class 'int'>\n"
     ]
    }
   ],
   "source": [
    "print(type(x))"
   ]
  },
  {
   "cell_type": "markdown",
   "id": "c34fbc54-4f48-4563-a67d-7a625180859f",
   "metadata": {},
   "source": [
    "Notice what happens in the code below"
   ]
  },
  {
   "cell_type": "code",
   "execution_count": 14,
   "id": "5e279e90-e9c0-4a1f-9a9f-3cc7b55f35e6",
   "metadata": {},
   "outputs": [
    {
     "name": "stdout",
     "output_type": "stream",
     "text": [
      "12.0 <class 'float'>\n"
     ]
    }
   ],
   "source": [
    "x = 12.\n",
    "print(x, type(x))"
   ]
  },
  {
   "cell_type": "markdown",
   "id": "bee37a16-5b50-492d-aa71-e6d249910324",
   "metadata": {},
   "source": [
    "Becuase our assignment included a decimal point after 12 (e.g. `x = 12.`) Python understands we want to define a real number which will be represeted by the data type `float`."
   ]
  },
  {
   "cell_type": "markdown",
   "id": "b2dd9814-9f96-40ba-aba3-07b9a9dd5bb7",
   "metadata": {},
   "source": [
    "I prefer to use this"
   ]
  },
  {
   "cell_type": "code",
   "execution_count": 17,
   "id": "3c3ceca8-6dab-4b6f-8a9d-9d706291702c",
   "metadata": {},
   "outputs": [],
   "source": [
    "x = 12.0"
   ]
  },
  {
   "cell_type": "markdown",
   "id": "ebbd6220-3d4d-4770-8695-00859401ce0e",
   "metadata": {},
   "source": [
    "to declare floating point (real) numbers."
   ]
  },
  {
   "cell_type": "markdown",
   "id": "caab7955-3d3e-45c9-acf2-622b20a5d161",
   "metadata": {},
   "source": [
    "One can also do this"
   ]
  },
  {
   "cell_type": "code",
   "execution_count": 20,
   "id": "f66d1923-24a3-41be-b503-366b14d7feba",
   "metadata": {},
   "outputs": [],
   "source": [
    "x = float(12) # or float(12.0)"
   ]
  },
  {
   "cell_type": "markdown",
   "id": "2a9bc98a-7c84-4e37-9b78-d91419c5cbdf",
   "metadata": {},
   "source": [
    "Check we got what we expect."
   ]
  },
  {
   "cell_type": "code",
   "execution_count": 22,
   "id": "d195f1bf-5c94-4a4f-9a70-11bf28e1d6cf",
   "metadata": {},
   "outputs": [
    {
     "name": "stdout",
     "output_type": "stream",
     "text": [
      "12.0 <class 'float'>\n"
     ]
    }
   ],
   "source": [
    "print(x, type(x))"
   ]
  },
  {
   "cell_type": "markdown",
   "id": "a0983a0c-fe21-4c4f-b85d-0795f1069ee9",
   "metadata": {},
   "source": [
    "Note that we have added a Python comment using the `#` symbol. Any text appearing after a `#` will be interpretted as a comment."
   ]
  },
  {
   "cell_type": "markdown",
   "id": "4c87d138-155e-48b9-8a51-21b8f06d82cc",
   "metadata": {},
   "source": [
    "Also note that `print()` can be provided with more than one \"thing\". Different things you want printed are separated by a comma. "
   ]
  },
  {
   "cell_type": "markdown",
   "id": "686d5fc0-97da-4f37-9497-c73f3b9d8942",
   "metadata": {},
   "source": [
    "### Complex numbers"
   ]
  },
  {
   "cell_type": "markdown",
   "id": "644f8eb6-cbdc-447e-80e6-3901e28590fa",
   "metadata": {},
   "source": [
    "Complex numbers can be declared in several ways. Option 1 uses the built-in function `complex(a, b)` which will set the real part to `a` and the imaginary part to `b`. For example,"
   ]
  },
  {
   "cell_type": "code",
   "execution_count": 27,
   "id": "30122fdc-ecee-46a8-a05d-7f91bc121d27",
   "metadata": {},
   "outputs": [],
   "source": [
    "z = complex(1.1, 2.2) # z = 1.1 + 2.2 i"
   ]
  },
  {
   "cell_type": "markdown",
   "id": "1a941c10-128a-45af-ae2f-8941dca0d55b",
   "metadata": {},
   "source": [
    "Lets print it, then check its type"
   ]
  },
  {
   "cell_type": "code",
   "execution_count": 29,
   "id": "e17dd0dd-0dcb-42a5-ad74-ca756d8827b1",
   "metadata": {},
   "outputs": [
    {
     "name": "stdout",
     "output_type": "stream",
     "text": [
      "z = (1.1+2.2j)\n"
     ]
    }
   ],
   "source": [
    "print(\"z =\", z)"
   ]
  },
  {
   "cell_type": "markdown",
   "id": "c65e33b6-487d-454e-9cde-b663abc511a0",
   "metadata": {},
   "source": [
    "Yep, Python using the symbol `j` to represnt the imaginary number, as opposed to `i`."
   ]
  },
  {
   "cell_type": "markdown",
   "id": "9f6ae500-abf8-4d11-b4ac-bc4ba9d2c25c",
   "metadata": {},
   "source": [
    "One can also declare complex numbers this way"
   ]
  },
  {
   "cell_type": "code",
   "execution_count": 32,
   "id": "a22affd3-718e-4d69-9d03-1493ddd6f26b",
   "metadata": {},
   "outputs": [],
   "source": [
    "z = 3.0 + 7.0j"
   ]
  },
  {
   "cell_type": "markdown",
   "id": "f5832e03-abb6-414f-885c-1fbda8e5423c",
   "metadata": {},
   "source": [
    "Lets check"
   ]
  },
  {
   "cell_type": "code",
   "execution_count": 34,
   "id": "f5cc2cb7-d373-4585-abd6-3686cbef16ed",
   "metadata": {},
   "outputs": [
    {
     "name": "stdout",
     "output_type": "stream",
     "text": [
      "(3+7j) <class 'complex'>\n"
     ]
    }
   ],
   "source": [
    "print(z, type(z))"
   ]
  },
  {
   "cell_type": "markdown",
   "id": "c3fc9866-ce48-458c-b6ce-f4290ed4037b",
   "metadata": {},
   "source": [
    "If you want to just print (or access) either the real or imaginary parts of a variable of type `complex`, you can do the following"
   ]
  },
  {
   "cell_type": "code",
   "execution_count": 36,
   "id": "dacc2dc1-c0ad-4f62-abd8-d2a6ec898354",
   "metadata": {},
   "outputs": [
    {
     "name": "stdout",
     "output_type": "stream",
     "text": [
      "Re(z) = 3.0\n"
     ]
    }
   ],
   "source": [
    "r_z = z.real  # The real part is accessed via .real, and we assign this number to a new variable r_z\n",
    "print(\"Re(z) =\", r_z)"
   ]
  },
  {
   "cell_type": "markdown",
   "id": "97e279e4-fe95-42bc-9de0-f63145d4d911",
   "metadata": {},
   "source": [
    "For the imaginary part, do this"
   ]
  },
  {
   "cell_type": "code",
   "execution_count": 38,
   "id": "60e07248-594d-4098-acbc-7f6ff52816ba",
   "metadata": {},
   "outputs": [
    {
     "name": "stdout",
     "output_type": "stream",
     "text": [
      "Im(z) = 7.0\n"
     ]
    }
   ],
   "source": [
    "im_z = z.imag  # The imaginary part is accessed via .imag, and we assign this number to a new variable im_z\n",
    "print(\"Im(z) =\", im_z)"
   ]
  },
  {
   "cell_type": "markdown",
   "id": "6e4a9957-e4b4-43f4-9075-b2c40c70d302",
   "metadata": {},
   "source": [
    "There is no _need_ to assign the real/imaginary parts to a new variable and if all we wanted to do was to inspect the value we could have just done this"
   ]
  },
  {
   "cell_type": "code",
   "execution_count": 40,
   "id": "b2736775-d01b-4df7-ab35-6ba53703b0a6",
   "metadata": {},
   "outputs": [
    {
     "name": "stdout",
     "output_type": "stream",
     "text": [
      "Re(z) = 3.0 Im(z) = 7.0\n"
     ]
    }
   ],
   "source": [
    "print(\"Re(z) =\", z.real, \"Im(z) =\", z.imag)"
   ]
  },
  {
   "cell_type": "markdown",
   "id": "d2fc438c-e468-43b7-8a4e-ddb5d9807193",
   "metadata": {},
   "source": [
    "Lastly note the real and imaginary parts of complex numbers in Python are always of type `float`. For example"
   ]
  },
  {
   "cell_type": "code",
   "execution_count": 42,
   "id": "e7c06e07-4588-4dca-bb7c-67b90ff130cf",
   "metadata": {},
   "outputs": [
    {
     "name": "stdout",
     "output_type": "stream",
     "text": [
      "Re(z) = 1.0 <class 'float'> Im(z) = 2.0 <class 'float'>\n"
     ]
    }
   ],
   "source": [
    "z = complex(1, 2) # z = 1 + 2 i\n",
    "print(\"Re(z) =\", z.real, type(z.real), \"Im(z) =\", z.imag, type(z.imag))"
   ]
  },
  {
   "cell_type": "markdown",
   "id": "72df91e3-aead-4b08-bebf-4438ae71c3a4",
   "metadata": {},
   "source": [
    "---\n",
    "# Structure of a basic Python script\n",
    "\n",
    "There is no requirement to have any special structure / format in your Python script. If I put the following snippet of code\n",
    "\n",
    "```python\n",
    "# My first Python script\n",
    "\n",
    "x = 1.1\n",
    "print(\"value of x =\", x)\n",
    "```\n",
    "\n",
    "in a file called `test.py` and then in the terminal and execute `python3 test.py`, it would run and the text `value of x = 1.1` would be printed to the screen."
   ]
  },
  {
   "cell_type": "markdown",
   "id": "fd727463-c428-472d-8e10-8c44e1766088",
   "metadata": {},
   "source": [
    "In this course we will write Python code and execute that code in the same way. Python code should always be put in a file, and the filename should end with the text `.py`."
   ]
  },
  {
   "cell_type": "markdown",
   "id": "f450c8bc-11fe-4b57-84ae-677a59dd9244",
   "metadata": {},
   "source": [
    "---\n",
    "## Operations\n",
    "\n",
    "### Arithmatic\n",
    "* `+` addition\n",
    "* `-` subtraction\n",
    "* `*` multiplication\n",
    "* `/` division\n",
    "\n",
    "### Comarison\n",
    "* `==` equal to\n",
    "* `!=` not equal to\n",
    "* `>` greater than\n",
    "* `<` less than\n",
    "* `>=` greater than or equal to\n",
    "* `<=` less than or equal to\n",
    "\n",
    "\n",
    "### Logical\n",
    "* `and`, `or`, `not`"
   ]
  },
  {
   "cell_type": "markdown",
   "id": "40119bbd-7410-4a4b-8774-c0f965b922f2",
   "metadata": {},
   "source": [
    "Some examples:"
   ]
  },
  {
   "cell_type": "code",
   "execution_count": 47,
   "id": "1ee9fbe6-fb88-4703-afcf-9a2b9da93336",
   "metadata": {},
   "outputs": [
    {
     "name": "stdout",
     "output_type": "stream",
     "text": [
      "0.3333333333333333\n"
     ]
    }
   ],
   "source": [
    "x = 3.0\n",
    "y = 9.0\n",
    "z = x / y\n",
    "print(z)"
   ]
  },
  {
   "cell_type": "code",
   "execution_count": 48,
   "id": "f4fc7bd8-1fb3-42fb-b6a5-94952d20f43b",
   "metadata": {},
   "outputs": [
    {
     "name": "stdout",
     "output_type": "stream",
     "text": [
      "6.0 <class 'float'>\n"
     ]
    }
   ],
   "source": [
    "a = 2.0\n",
    "b = 3\n",
    "\n",
    "print(a * b, type(a * b)) # Note that float * int resulted in an float"
   ]
  },
  {
   "cell_type": "code",
   "execution_count": 49,
   "id": "a6467942-d28c-406d-98fb-7c9a400b0b51",
   "metadata": {},
   "outputs": [
    {
     "ename": "ZeroDivisionError",
     "evalue": "float division by zero",
     "output_type": "error",
     "traceback": [
      "\u001b[0;31m---------------------------------------------------------------------------\u001b[0m",
      "\u001b[0;31mZeroDivisionError\u001b[0m                         Traceback (most recent call last)",
      "Cell \u001b[0;32mIn[49], line 1\u001b[0m\n\u001b[0;32m----> 1\u001b[0m \u001b[38;5;28mprint\u001b[39m(\u001b[38;5;241m3.0\u001b[39m \u001b[38;5;241m/\u001b[39m \u001b[38;5;241m0.0\u001b[39m)\n",
      "\u001b[0;31mZeroDivisionError\u001b[0m: float division by zero"
     ]
    }
   ],
   "source": [
    "print(3.0 / 0.0)"
   ]
  },
  {
   "cell_type": "markdown",
   "id": "b93361bb-7af7-4e7f-bb09-2c14dd420261",
   "metadata": {},
   "source": [
    "Python will report errors like this if you try to do something undefined."
   ]
  },
  {
   "cell_type": "markdown",
   "id": "c55f63ea-cf40-41a0-84fe-00b7fd936c64",
   "metadata": {},
   "source": [
    "### Increment and decrement"
   ]
  },
  {
   "cell_type": "markdown",
   "id": "ec30464d-89b7-41b2-b201-86731220d3f8",
   "metadata": {},
   "source": [
    "It is often the case that you want to do something like this (or you may see it in an algorithm):\n",
    "$$\n",
    "i = 0\n",
    "$$\n",
    "$$\n",
    "i = i + 1\n",
    "$$\n",
    "\n",
    "At a first glance the algebra may look weird, but in code it makes sense.\n",
    "What it says is:\n",
    "* \"assign the value of 0 to a variable i\", followed by\n",
    "* \"assign the value of i + 1 to a variable i\".\n",
    "\n",
    "Reading the lines from right to left (backwards) helps in this case.\n",
    "In Python we can perform this via\n",
    "\n",
    "```python\n",
    "i = 0\n",
    "i = i + 1\n",
    "```\n",
    "Python gives us a short-cut to do the same thing\n",
    "```python\n",
    "i = 0\n",
    "i += 1\n",
    "```\n",
    "\n",
    "Such types of incrementing can be done with `float`s as well\n",
    "```python\n",
    "x = 0.0\n",
    "x += 1.1 # same as x = x + 1.1\n",
    "```\n",
    "\n",
    "It also works with negative increments (i.e. decrement), e.g.\n",
    "```python\n",
    "x = 0.0\n",
    "x -= 1.1 # same as x = x - 1.1\n",
    "x -= 1.1 # same as x = x - 1.1\n",
    "```\n",
    "would result in $x = -2.2$.\n"
   ]
  },
  {
   "cell_type": "markdown",
   "id": "3baba66b-7886-42cd-89ba-12d9ca041f48",
   "metadata": {},
   "source": [
    "Comparison operations will return `True` or `False`. For example"
   ]
  },
  {
   "cell_type": "code",
   "execution_count": 54,
   "id": "e5bb60ca-379f-4ea8-8b08-9506d2c0cc6d",
   "metadata": {},
   "outputs": [
    {
     "name": "stdout",
     "output_type": "stream",
     "text": [
      "False\n"
     ]
    }
   ],
   "source": [
    "a = 1.1\n",
    "b = 2.2\n",
    "print(a > b)"
   ]
  },
  {
   "cell_type": "code",
   "execution_count": 56,
   "id": "c3764741-82fd-4c68-961d-dda0cfe39f92",
   "metadata": {},
   "outputs": [
    {
     "name": "stdout",
     "output_type": "stream",
     "text": [
      "True\n"
     ]
    }
   ],
   "source": [
    "print(a < b)"
   ]
  },
  {
   "cell_type": "code",
   "execution_count": 58,
   "id": "fb2998ab-c774-4934-afe7-d1ea42a4a26b",
   "metadata": {},
   "outputs": [
    {
     "name": "stdout",
     "output_type": "stream",
     "text": [
      "True\n"
     ]
    }
   ],
   "source": [
    "a = 1.1\n",
    "b = 2.2\n",
    "print(a != b)"
   ]
  },
  {
   "cell_type": "code",
   "execution_count": 60,
   "id": "ecbd463c-336e-42a1-9e04-6292960e548c",
   "metadata": {},
   "outputs": [
    {
     "name": "stdout",
     "output_type": "stream",
     "text": [
      "False\n"
     ]
    }
   ],
   "source": [
    "a = 1.1\n",
    "b = 2.2\n",
    "print(a == b)"
   ]
  },
  {
   "cell_type": "markdown",
   "id": "19d85a08-71a5-4b8d-b222-53f1903e6512",
   "metadata": {},
   "source": [
    "---\n",
    "## Conditional statements\n",
    "\n",
    "Python uses the syntax\n",
    "\n",
    "```python\n",
    "\n",
    "PYTHON_CODE_LINE_1\n",
    "\n",
    "if CONDITION:\n",
    "    CODE_GOES_HERE_A\n",
    "    CODE_GOES_HERE_B\n",
    "\n",
    "PYTHON_CODE_LINE_2\n",
    "```\n",
    "\n",
    "What is *really* important about the above syntax is that:\n",
    "* There is not `end if` type statement to indicate which code should be contained within the `if` versus outside of the `if` statement\n",
    "* Python figures out which code is inside the `if` based on the text indentation.\n",
    "* All code to be considered with the `if` must be consistently indented\n",
    "\n",
    "In the above `CODE_GOES_HERE_A` and `CODE_GOES_HERE_B` would be considered _within_ the `if` statement whilst `PYTHON_CODE_LINE_2` is NOT within the `if` statement."
   ]
  },
  {
   "cell_type": "markdown",
   "id": "f6bb3629-813b-4705-a738-a99fa0e243ec",
   "metadata": {},
   "source": [
    "Putting it together"
   ]
  },
  {
   "cell_type": "code",
   "execution_count": 64,
   "id": "f333e54f-e566-4d07-8ef9-a414a1320e22",
   "metadata": {},
   "outputs": [
    {
     "name": "stdout",
     "output_type": "stream",
     "text": [
      "a is less than b\n",
      "a = 1 b = 10\n"
     ]
    }
   ],
   "source": [
    "a = 1\n",
    "b = 10\n",
    "\n",
    "if a > b:\n",
    "    print('a is greater than b')\n",
    "    print('a =', a, 'b =', b)\n",
    "\n",
    "if a < b:\n",
    "    print('a is less than b')\n",
    "    print('a =', a, 'b =', b)\n"
   ]
  },
  {
   "cell_type": "markdown",
   "id": "d5d30a1d-d073-4908-a601-c2c857192dc0",
   "metadata": {},
   "source": [
    "We can also use `if`-`else` type statements, or `if`-`else if`-`else` type statements"
   ]
  },
  {
   "cell_type": "code",
   "execution_count": 67,
   "id": "6b92bb01-5a2c-4e50-bb6f-f3db62202182",
   "metadata": {},
   "outputs": [
    {
     "name": "stdout",
     "output_type": "stream",
     "text": [
      "a is less than b\n",
      "a = 1 b = 10\n"
     ]
    }
   ],
   "source": [
    "a = 1\n",
    "b = 10\n",
    "\n",
    "if a >= b:\n",
    "    print('a is greater than or equal to b')\n",
    "    print('a =', a, 'b =', b)\n",
    "else:\n",
    "    print('a is less than b')\n",
    "    print('a =', a, 'b =', b)"
   ]
  },
  {
   "cell_type": "code",
   "execution_count": 69,
   "id": "c24908e2-c7a6-4458-9c29-6f4276f9f6b5",
   "metadata": {},
   "outputs": [
    {
     "name": "stdout",
     "output_type": "stream",
     "text": [
      "a is less than b\n",
      "a = 1 b = 10\n"
     ]
    }
   ],
   "source": [
    "a = 1\n",
    "b = 10\n",
    "\n",
    "if a > b:\n",
    "    print('a is greater than b')\n",
    "    print('a =', a, 'b =', b)\n",
    "elif a < b:\n",
    "    print('a is less than b')\n",
    "    print('a =', a, 'b =', b)\n",
    "else:\n",
    "    print('a equals b')\n",
    "    print('a =', a, 'b =', b)\n",
    "    "
   ]
  },
  {
   "cell_type": "markdown",
   "id": "78d4cca0-79ae-4795-9d66-904364e3a4c8",
   "metadata": {},
   "source": [
    "---\n",
    "## Handling illegal (undesirable) behaviour \n",
    "\n",
    "### Reporting errors\n",
    "\n",
    "We saw above when we divided by 0.0 Python reported an error. We can (and should, and will) include error checking in our code. We use the keyword `raise` to report an error.\n"
   ]
  },
  {
   "cell_type": "code",
   "execution_count": 72,
   "id": "c48e4279-4cae-4a39-8ce9-15c8659f3b54",
   "metadata": {},
   "outputs": [
    {
     "ename": "RuntimeError",
     "evalue": "b must be less than or equal to a",
     "output_type": "error",
     "traceback": [
      "\u001b[0;31m---------------------------------------------------------------------------\u001b[0m",
      "\u001b[0;31mRuntimeError\u001b[0m                              Traceback (most recent call last)",
      "Cell \u001b[0;32mIn[72], line 4\u001b[0m\n\u001b[1;32m      2\u001b[0m b \u001b[38;5;241m=\u001b[39m \u001b[38;5;241m3\u001b[39m\n\u001b[1;32m      3\u001b[0m \u001b[38;5;28;01mif\u001b[39;00m b \u001b[38;5;241m>\u001b[39m a:\n\u001b[0;32m----> 4\u001b[0m     \u001b[38;5;28;01mraise\u001b[39;00m \u001b[38;5;167;01mRuntimeError\u001b[39;00m(\u001b[38;5;124m'\u001b[39m\u001b[38;5;124mb must be less than or equal to a\u001b[39m\u001b[38;5;124m'\u001b[39m)\n",
      "\u001b[0;31mRuntimeError\u001b[0m: b must be less than or equal to a"
     ]
    }
   ],
   "source": [
    "a = 2\n",
    "b = 3\n",
    "if b > a:\n",
    "    raise RuntimeError('b must be less than or equal to a')"
   ]
  },
  {
   "cell_type": "markdown",
   "id": "e199b835-2cc4-4dc5-a78d-e70b07f973a2",
   "metadata": {},
   "source": [
    "If we wanted a more informative error message, we could use functions other than `RuntimeError()`. The following will be useful in our numerical methods course when we wish to report an error\n",
    "* `ValueError()`: Use when an operation or function receives the right type of argument but the wrong value and it cannot be matched by a more specific exception.\n",
    "* `TypeError()`: Use if an operation or function is applied to an object of improper type.\n",
    "* `ZeroDivisionError()`: Use when a division by 0 will (or has) occurred.\n",
    "* `IndexError()`: Use if a sequence subscript is out of range.\n",
    "\n",
    "Let's look at some example usages"
   ]
  },
  {
   "cell_type": "code",
   "execution_count": 75,
   "id": "1b9f6579-25e9-4ead-af7b-be2bb431c7e0",
   "metadata": {},
   "outputs": [
    {
     "ename": "ZeroDivisionError",
     "evalue": "Trying to divide by zero",
     "output_type": "error",
     "traceback": [
      "\u001b[0;31m---------------------------------------------------------------------------\u001b[0m",
      "\u001b[0;31mZeroDivisionError\u001b[0m                         Traceback (most recent call last)",
      "Cell \u001b[0;32mIn[75], line 1\u001b[0m\n\u001b[0;32m----> 1\u001b[0m \u001b[38;5;28;01mraise\u001b[39;00m \u001b[38;5;167;01mZeroDivisionError\u001b[39;00m(\u001b[38;5;124m'\u001b[39m\u001b[38;5;124mTrying to divide by zero\u001b[39m\u001b[38;5;124m'\u001b[39m)\n",
      "\u001b[0;31mZeroDivisionError\u001b[0m: Trying to divide by zero"
     ]
    }
   ],
   "source": [
    "raise ZeroDivisionError('Trying to divide by zero')"
   ]
  },
  {
   "cell_type": "code",
   "execution_count": 77,
   "id": "205a270b-417a-4ccd-acad-a2b3220974cb",
   "metadata": {},
   "outputs": [
    {
     "ename": "TypeError",
     "evalue": "Expected input to be of type int (integer), found str (string)",
     "output_type": "error",
     "traceback": [
      "\u001b[0;31m---------------------------------------------------------------------------\u001b[0m",
      "\u001b[0;31mTypeError\u001b[0m                                 Traceback (most recent call last)",
      "Cell \u001b[0;32mIn[77], line 1\u001b[0m\n\u001b[0;32m----> 1\u001b[0m \u001b[38;5;28;01mraise\u001b[39;00m \u001b[38;5;167;01mTypeError\u001b[39;00m(\u001b[38;5;124m'\u001b[39m\u001b[38;5;124mExpected input to be of type int (integer), found str (string)\u001b[39m\u001b[38;5;124m'\u001b[39m)\n",
      "\u001b[0;31mTypeError\u001b[0m: Expected input to be of type int (integer), found str (string)"
     ]
    }
   ],
   "source": [
    "raise TypeError('Expected input to be of type int (integer), found str (string)')"
   ]
  },
  {
   "cell_type": "code",
   "execution_count": 79,
   "id": "5fc85011-29f0-4492-9924-0bc92c45966b",
   "metadata": {},
   "outputs": [
    {
     "ename": "ValueError",
     "evalue": "Expected input to be > 0",
     "output_type": "error",
     "traceback": [
      "\u001b[0;31m---------------------------------------------------------------------------\u001b[0m",
      "\u001b[0;31mValueError\u001b[0m                                Traceback (most recent call last)",
      "Cell \u001b[0;32mIn[79], line 1\u001b[0m\n\u001b[0;32m----> 1\u001b[0m \u001b[38;5;28;01mraise\u001b[39;00m \u001b[38;5;167;01mValueError\u001b[39;00m(\u001b[38;5;124m'\u001b[39m\u001b[38;5;124mExpected input to be > 0\u001b[39m\u001b[38;5;124m'\u001b[39m)\n",
      "\u001b[0;31mValueError\u001b[0m: Expected input to be > 0"
     ]
    }
   ],
   "source": [
    "raise ValueError('Expected input to be > 0')"
   ]
  },
  {
   "cell_type": "markdown",
   "id": "aa77e65d-bb06-4904-8535-9b3ca10be114",
   "metadata": {},
   "source": [
    "---\n",
    "## Built in math functions\n",
    "\n",
    "Python provides a wide range of functionality in what it calls *packages* and *modules*.\n",
    "To use such functionality we need to `import` the package. For math functions like `exp()`, or trigonometric functions like `sin()`, we will use the `math` package. Note that `math` provides functions for real numbers (data type = `float`). For complex numbers we will have to use the `cmath` package.\n",
    "\n",
    "Let's import the math package and try it out."
   ]
  },
  {
   "cell_type": "code",
   "execution_count": 82,
   "id": "14d612af-bc11-4443-8392-ac9baf5af634",
   "metadata": {},
   "outputs": [],
   "source": [
    "import math"
   ]
  },
  {
   "cell_type": "code",
   "execution_count": 84,
   "id": "a492dd3c-2db9-4ab9-a553-8851084a36cc",
   "metadata": {},
   "outputs": [],
   "source": [
    "b = 9.0"
   ]
  },
  {
   "cell_type": "markdown",
   "id": "9b187f18-d32b-47a6-bfc2-c8a170562c79",
   "metadata": {},
   "source": [
    "We want to take the square root of `b`. The square root function is defined in the package `math`. To use it we do the following"
   ]
  },
  {
   "cell_type": "code",
   "execution_count": 87,
   "id": "d3ee980b-e299-421e-8516-5b80bf850161",
   "metadata": {},
   "outputs": [],
   "source": [
    "sb = math.sqrt(b)"
   ]
  },
  {
   "cell_type": "code",
   "execution_count": 89,
   "id": "11b9c8df-e3b5-4425-a233-4062ac645c84",
   "metadata": {},
   "outputs": [
    {
     "name": "stdout",
     "output_type": "stream",
     "text": [
      "sqrt(9)=  3.0\n"
     ]
    }
   ],
   "source": [
    "print(\"sqrt(9)= \", sb)"
   ]
  },
  {
   "cell_type": "markdown",
   "id": "95718161-f674-472f-8242-07bc6815cf6a",
   "metadata": {},
   "source": [
    "Other handy functions are\n",
    "* `math.sin(x)` Computes $\\sin(x)$.\n",
    "* `math.cos(x)` Computes $\\cos(x)$.\n",
    "* `math.exp(x)` Computes $e^x$.\n",
    "* `math.pow(x, y)` Computes $x^y$. This can also be done using `x**y`."
   ]
  },
  {
   "cell_type": "markdown",
   "id": "8351f378-9f99-47f8-b71e-10953f0b7096",
   "metadata": {},
   "source": [
    "A full listing can be found by typing `help(math)`."
   ]
  },
  {
   "cell_type": "markdown",
   "id": "e8a25870-150f-45e6-b91c-b28023881625",
   "metadata": {},
   "source": [
    "The functions in the `math` package perform error checking"
   ]
  },
  {
   "cell_type": "code",
   "execution_count": 94,
   "id": "092e2436-79af-4867-a103-b44a568df62b",
   "metadata": {},
   "outputs": [
    {
     "ename": "ValueError",
     "evalue": "math domain error",
     "output_type": "error",
     "traceback": [
      "\u001b[0;31m---------------------------------------------------------------------------\u001b[0m",
      "\u001b[0;31mValueError\u001b[0m                                Traceback (most recent call last)",
      "Cell \u001b[0;32mIn[94], line 1\u001b[0m\n\u001b[0;32m----> 1\u001b[0m math\u001b[38;5;241m.\u001b[39msqrt(\u001b[38;5;241m-\u001b[39m\u001b[38;5;241m2\u001b[39m)\n",
      "\u001b[0;31mValueError\u001b[0m: math domain error"
     ]
    }
   ],
   "source": [
    "math.sqrt(-2)"
   ]
  },
  {
   "cell_type": "markdown",
   "id": "be0cb05d-9ea6-458a-ad61-19e8e12a4a4a",
   "metadata": {},
   "source": [
    "Using complex variables with functions from `math` will report an error"
   ]
  },
  {
   "cell_type": "code",
   "execution_count": 97,
   "id": "b0e742c4-cc56-41ab-8ca6-2fa7627ed204",
   "metadata": {},
   "outputs": [
    {
     "ename": "TypeError",
     "evalue": "must be real number, not complex",
     "output_type": "error",
     "traceback": [
      "\u001b[0;31m---------------------------------------------------------------------------\u001b[0m",
      "\u001b[0;31mTypeError\u001b[0m                                 Traceback (most recent call last)",
      "Cell \u001b[0;32mIn[97], line 2\u001b[0m\n\u001b[1;32m      1\u001b[0m \u001b[38;5;66;03m# Evaluate z = exp(3i), should be, using Euler's formula z = cos(3) + i sin(3)\u001b[39;00m\n\u001b[0;32m----> 2\u001b[0m z \u001b[38;5;241m=\u001b[39m math\u001b[38;5;241m.\u001b[39mexp(\u001b[38;5;241m3\u001b[39mj)\n",
      "\u001b[0;31mTypeError\u001b[0m: must be real number, not complex"
     ]
    }
   ],
   "source": [
    "# Evaluate z = exp(3i), should be, using Euler's formula z = cos(3) + i sin(3)\n",
    "z = math.exp(3j)"
   ]
  },
  {
   "cell_type": "markdown",
   "id": "b259a9a3-d231-475c-bbdb-0eede6c09c56",
   "metadata": {},
   "source": []
  },
  {
   "cell_type": "code",
   "execution_count": 100,
   "id": "5f7bd976-7fa9-4bc5-8831-a866b7105117",
   "metadata": {},
   "outputs": [],
   "source": [
    "import cmath"
   ]
  },
  {
   "cell_type": "code",
   "execution_count": 102,
   "id": "c0389e4f-4201-4e25-b95d-8b950abe7d33",
   "metadata": {},
   "outputs": [
    {
     "name": "stdout",
     "output_type": "stream",
     "text": [
      "(-0.9899924966004454+0.1411200080598672j)\n"
     ]
    }
   ],
   "source": [
    "z = cmath.exp(3j)\n",
    "print(z)"
   ]
  },
  {
   "cell_type": "code",
   "execution_count": 104,
   "id": "8d617246-5b9a-4c70-b1c6-10168afeac86",
   "metadata": {},
   "outputs": [
    {
     "name": "stdout",
     "output_type": "stream",
     "text": [
      "-0.9899924966004454 0.1411200080598672\n"
     ]
    }
   ],
   "source": [
    "# Check using Euler's formula\n",
    "z_c = math.cos(3)\n",
    "z_s = math.sin(3)\n",
    "print(z_c, z_s)"
   ]
  },
  {
   "cell_type": "markdown",
   "id": "8088e2ab-b879-475e-b6fd-bb70e88f8420",
   "metadata": {},
   "source": [
    "---\n",
    "## Checking data type of a variable\n",
    "\n",
    "We saw how to print the data type of a variable using `type()`, however what if we want to programmatically check that the data type of a variable is something specific?\n",
    "\n",
    "There are cases where you would like to query the exact data type of a variable. For example, you may like to ensure that a variable being your code is say a real number, and if this condition is not met, you want your code to halt.\n",
    "You can check use `isinstance(var, dtype)` for this purpose. `var` would be your variable and `dtype` is the data type you want to compare with `var`. Below is an example\n"
   ]
  },
  {
   "cell_type": "code",
   "execution_count": 107,
   "id": "1ab6ac79-0e91-4daa-8157-3fe29e215299",
   "metadata": {},
   "outputs": [],
   "source": [
    "a = 2 # Assign an integer to a"
   ]
  },
  {
   "cell_type": "code",
   "execution_count": 109,
   "id": "da6a4ae7-9d91-46b0-98dc-96fd310291f9",
   "metadata": {},
   "outputs": [
    {
     "name": "stdout",
     "output_type": "stream",
     "text": [
      "a is an int\n"
     ]
    }
   ],
   "source": [
    "# Check if `a` is an int. isinstance() will return True if this is the case\n",
    "if isinstance(a, int) == True:\n",
    "    print('a is an int')"
   ]
  },
  {
   "cell_type": "markdown",
   "id": "78f3444e-86ca-41a4-b6af-a868498f1973",
   "metadata": {},
   "source": [
    "---\n",
    "# Displaying numbers and rounding numbers"
   ]
  },
  {
   "cell_type": "code",
   "execution_count": 112,
   "id": "4c5dd753-df0f-45f5-851a-612ac36b701c",
   "metadata": {},
   "outputs": [
    {
     "name": "stdout",
     "output_type": "stream",
     "text": [
      "0.255000001\n"
     ]
    }
   ],
   "source": [
    "a = 0.255000001\n",
    "print(a)"
   ]
  },
  {
   "cell_type": "markdown",
   "id": "3ce15f0c-3443-47dd-808f-a25859a47f7b",
   "metadata": {},
   "source": [
    "If you want to force Python to print a fixed number of digits after the decimal point you can use the syntax\n",
    "\n",
    "```python\n",
    "'%.3f'%variable\n",
    "```\n",
    "which will display 3 digits after the decimal point."
   ]
  },
  {
   "cell_type": "code",
   "execution_count": 115,
   "id": "87e1c3c8-bc52-4355-b948-d84ab03204bb",
   "metadata": {},
   "outputs": [
    {
     "name": "stdout",
     "output_type": "stream",
     "text": [
      "0.255\n"
     ]
    }
   ],
   "source": [
    "print( '%.3f'%a )"
   ]
  },
  {
   "cell_type": "markdown",
   "id": "68b6c8c3-1c37-4d1c-83d9-7340462454d1",
   "metadata": {},
   "source": [
    "Lets display 1, 2, 3, 5 digits"
   ]
  },
  {
   "cell_type": "code",
   "execution_count": 118,
   "id": "d68775d8-fce7-432a-ab11-d7e8a3a80ca0",
   "metadata": {},
   "outputs": [
    {
     "name": "stdout",
     "output_type": "stream",
     "text": [
      "0.3\n",
      "0.26\n",
      "0.255\n",
      "0.25500\n"
     ]
    }
   ],
   "source": [
    "print( '%.1f'%a )\n",
    "print( '%.2f'%a )\n",
    "print( '%.3f'%a )\n",
    "print( '%.5f'%a )"
   ]
  },
  {
   "cell_type": "markdown",
   "id": "999a2886-a7d7-4f50-91fd-0f93f696c70d",
   "metadata": {},
   "source": [
    "Notice that the number is being rounded when displayed with 1 or 2 digits. We can get the same result using `round()`"
   ]
  },
  {
   "cell_type": "code",
   "execution_count": 121,
   "id": "85cb4c1a-7d24-4217-ae45-ec3b34d96f2d",
   "metadata": {},
   "outputs": [
    {
     "name": "stdout",
     "output_type": "stream",
     "text": [
      "0.3\n",
      "0.26\n",
      "0.255\n",
      "0.255\n"
     ]
    }
   ],
   "source": [
    "print(round(a,1))\n",
    "print(round(a,2))\n",
    "print(round(a,3))\n",
    "print(round(a,5))"
   ]
  },
  {
   "cell_type": "markdown",
   "id": "505dff48-cc36-45d9-8b47-0554546d017d",
   "metadata": {},
   "source": [
    "However, notice that `round()` does not let you control how many digits are displayed to the screen."
   ]
  },
  {
   "cell_type": "markdown",
   "id": "28cfd6b7-1b95-42f5-bcd8-3a3d3a0f8cff",
   "metadata": {},
   "source": [
    "It is preferrable to use exponential notation to display numbers, we can do this \n",
    "\n",
    "```python\n",
    "'%.3e'%variable\n",
    "```\n",
    "\n",
    "which will display 3 digits after the decimal point. Note that we replaced the `f` (for floating point notation) to an `e` (for exponential notation). Here are some examples"
   ]
  },
  {
   "cell_type": "code",
   "execution_count": 125,
   "id": "4677d291-dd42-4575-9e59-d8adcd81088d",
   "metadata": {},
   "outputs": [
    {
     "name": "stdout",
     "output_type": "stream",
     "text": [
      "2.6e-01\n",
      "2.55e-01\n",
      "2.550e-01\n",
      "2.55000e-01\n"
     ]
    }
   ],
   "source": [
    "print( '%.1e'%a )\n",
    "print( '%.2e'%a )\n",
    "print( '%.3e'%a )\n",
    "print( '%.5e'%a )"
   ]
  },
  {
   "cell_type": "markdown",
   "id": "bd0d79ed-d326-4025-8165-fe81e333064f",
   "metadata": {},
   "source": [
    "Let's look at 20 digits"
   ]
  },
  {
   "cell_type": "code",
   "execution_count": 128,
   "id": "5e84bcdd-fc2f-4f87-b046-c792c542399e",
   "metadata": {},
   "outputs": [
    {
     "name": "stdout",
     "output_type": "stream",
     "text": [
      "2.55000000999999976159e-01\n"
     ]
    }
   ],
   "source": [
    "print( ('%.20e'%a) )"
   ]
  },
  {
   "cell_type": "markdown",
   "id": "0f49a6b1-6c46-4050-8c1d-589d063617d8",
   "metadata": {},
   "source": [
    "Lastly, you can force the sign of the number to be displayed in the output using `'%+.3e'%variable`."
   ]
  },
  {
   "cell_type": "code",
   "execution_count": 131,
   "id": "a046d7cd-8e01-4419-9207-aed3e837849e",
   "metadata": {},
   "outputs": [
    {
     "name": "stdout",
     "output_type": "stream",
     "text": [
      "+2.5500000100e-01\n"
     ]
    }
   ],
   "source": [
    "a = 0.255000001\n",
    "print( '%+.10e'%a )"
   ]
  },
  {
   "cell_type": "markdown",
   "id": "6c42dc06-e38f-4cb1-9ac4-4d6ea6e3c2f8",
   "metadata": {},
   "source": [
    "Now applying this to a negative nunber"
   ]
  },
  {
   "cell_type": "code",
   "execution_count": 134,
   "id": "d3ffc4fb-c453-4525-9732-beb410c90981",
   "metadata": {},
   "outputs": [
    {
     "name": "stdout",
     "output_type": "stream",
     "text": [
      "-2.5500000100e-01\n"
     ]
    }
   ],
   "source": [
    "a = -0.255000001\n",
    "print( '%+.10e'%a )"
   ]
  },
  {
   "cell_type": "markdown",
   "id": "57f62ff8-43f4-41e8-8ce8-8fbe6ee7bab5",
   "metadata": {},
   "source": [
    "---\n",
    "## Loops for repetitive statements \n",
    "\n",
    "Repetitive statements are best implemented with loops. If the number of repetitive statements requiring to be executed is known in advance, a `for` loop is most appropriate. As a simple (silly) example, consider dividing 10.0 by 3, four times. Below is a snippet of code doing just that."
   ]
  },
  {
   "cell_type": "code",
   "execution_count": 137,
   "id": "390166c9-5ae4-4a9a-a1b7-0976fa7a7656",
   "metadata": {},
   "outputs": [
    {
     "name": "stdout",
     "output_type": "stream",
     "text": [
      "i = 0 , value = 3.3333333333333335\n",
      "i = 1 , value = 1.1111111111111112\n",
      "i = 2 , value = 0.3703703703703704\n",
      "i = 3 , value = 0.1234567901234568\n"
     ]
    }
   ],
   "source": [
    "value = 10.0\n",
    "for i in range(0, 4):\n",
    "    value = value / 3.0\n",
    "    print('i =', i, ', value =', value)"
   ]
  },
  {
   "cell_type": "markdown",
   "id": "e4fd37e4-a07b-486c-836e-d3e0a6e72a02",
   "metadata": {},
   "source": [
    "Some explainations.\n",
    "* The loop is called a for loop and states with the keyword `for`.\n",
    "* The index used at each iteration of the for loop is associated the variable name `i`. This variable can be called anything, but since it will hold the value of integer, we usually use something like `i`, `j`, `k` to make it look like the math would.\n",
    "* `range(0, 4)` provides a collection of integers we will step through with values `0, 1, 2, 3`. This can be confirmed from the output above. Using `range(1, 5)` would step through integers `1, 2, 3, 4`. Notice the integers go up to, but do not include the last value (5 in this case). `range(0, 4)` is identical to using `range(4)`.\n",
    "* Like `if` statements, the for loop line ends with `:`\n",
    "* Like `if` statements, the indentation level is important and determines what is considered inside the loop."
   ]
  },
  {
   "cell_type": "markdown",
   "id": "107146db-3967-4865-ac81-9777af91de85",
   "metadata": {},
   "source": [
    "In some cases we may now know how many iterations we require in a loop. Another (silly) example would be suppose we wish to repeatedly divide 10.0 by 3.0 until the value is less than $10^{-4}$. We can do this with a `while` loop."
   ]
  },
  {
   "cell_type": "code",
   "execution_count": 141,
   "id": "0a24106c-48f5-4277-af25-456c52bee31d",
   "metadata": {},
   "outputs": [
    {
     "name": "stdout",
     "output_type": "stream",
     "text": [
      "value = +3.33333333e+00\n",
      "value = +1.11111111e+00\n",
      "value = +3.70370370e-01\n",
      "value = +1.23456790e-01\n",
      "value = +4.11522634e-02\n",
      "value = +1.37174211e-02\n",
      "value = +4.57247371e-03\n",
      "value = +1.52415790e-03\n",
      "value = +5.08052634e-04\n",
      "value = +1.69350878e-04\n",
      "value = +5.64502927e-05\n"
     ]
    }
   ],
   "source": [
    "value = 10.0\n",
    "while value > 1.0e-4:\n",
    "    value = value / 3.0\n",
    "    print('value =', '%+.8e'%value)"
   ]
  },
  {
   "cell_type": "markdown",
   "id": "8337798a-80c9-4d91-8fe1-cb9227653982",
   "metadata": {},
   "source": [
    "`while` loops continue iterating until the condition specified is met. In the above the condition is\n",
    "```python\n",
    "value > 1.0e-4\n",
    "```"
   ]
  },
  {
   "cell_type": "markdown",
   "id": "2b95d1d7-20fa-41fc-bc49-e5bb05a09b9a",
   "metadata": {},
   "source": [
    "As with `for` and `if`, the first line is terminated with a `:` and the indentation level matters."
   ]
  },
  {
   "cell_type": "markdown",
   "id": "36654d7c-2688-4e77-9469-5b75d3dabcbc",
   "metadata": {},
   "source": [
    "We have no automatic why to record the number of iterations the `while` loop above actually did unless we count them by hand. We never wan to do things by hand - lets let the computer do it for us. To that end, we will introduces a new variable `k` and increment it by 1 at each iteration."
   ]
  },
  {
   "cell_type": "code",
   "execution_count": 146,
   "id": "67dc8230-969c-4c90-a89e-ea3710637356",
   "metadata": {},
   "outputs": [
    {
     "name": "stdout",
     "output_type": "stream",
     "text": [
      "k = 1 value = +3.33333333e+00\n",
      "k = 2 value = +1.11111111e+00\n",
      "k = 3 value = +3.70370370e-01\n",
      "k = 4 value = +1.23456790e-01\n",
      "k = 5 value = +4.11522634e-02\n",
      "k = 6 value = +1.37174211e-02\n",
      "k = 7 value = +4.57247371e-03\n",
      "k = 8 value = +1.52415790e-03\n",
      "k = 9 value = +5.08052634e-04\n",
      "k = 10 value = +1.69350878e-04\n",
      "k = 11 value = +5.64502927e-05\n"
     ]
    }
   ],
   "source": [
    "value = 10.0\n",
    "k = 0         # Initialize loop counter to 0\n",
    "while value > 1.0e-4:\n",
    "    value = value / 3.0\n",
    "    k = k + 1  # Increment k by +1. Could have also done k += 1\n",
    "    print('k =', k, 'value =', '%+.8e'%value)"
   ]
  },
  {
   "cell_type": "markdown",
   "id": "2f61aba7-0df7-414a-9f5e-8325d66fd876",
   "metadata": {},
   "source": [
    "This may not be quite what you expected. If you expeceted `k` to be 0 on the first iteration is really does matter where you increment `k` relative to where you print the value of `k`. Let's flip the last two lines within the loop above and re-run it."
   ]
  },
  {
   "cell_type": "code",
   "execution_count": 149,
   "id": "1ac9deb4-c823-49d9-a02e-01cf3c2d664d",
   "metadata": {},
   "outputs": [
    {
     "name": "stdout",
     "output_type": "stream",
     "text": [
      "k = 0 value = +3.33333333e+00\n",
      "k = 1 value = +1.11111111e+00\n",
      "k = 2 value = +3.70370370e-01\n",
      "k = 3 value = +1.23456790e-01\n",
      "k = 4 value = +4.11522634e-02\n",
      "k = 5 value = +1.37174211e-02\n",
      "k = 6 value = +4.57247371e-03\n",
      "k = 7 value = +1.52415790e-03\n",
      "k = 8 value = +5.08052634e-04\n",
      "k = 9 value = +1.69350878e-04\n",
      "k = 10 value = +5.64502927e-05\n"
     ]
    }
   ],
   "source": [
    "value = 10.0\n",
    "k = 0         # Initialize loop counter to 0\n",
    "while value > 1.0e-4:\n",
    "    value = value / 3.0\n",
    "    print('k =', k, 'value =', '%+.8e'%value)\n",
    "    k = k + 1  # Increment k by +1. Could have also done k += 1"
   ]
  },
  {
   "cell_type": "markdown",
   "id": "7a747e9d-b328-4c6c-ac06-784d3ccf5ef9",
   "metadata": {},
   "source": [
    "We have seen loops incrementing forwards through the numbers within `range(0,5)`, e.g."
   ]
  },
  {
   "cell_type": "code",
   "execution_count": 152,
   "id": "3ba58a7c-d398-49d3-80dc-6454fd346db9",
   "metadata": {},
   "outputs": [
    {
     "name": "stdout",
     "output_type": "stream",
     "text": [
      "0\n",
      "1\n",
      "2\n",
      "3\n",
      "4\n"
     ]
    }
   ],
   "source": [
    "for i in range(0, 5):\n",
    "    print(i)"
   ]
  },
  {
   "cell_type": "markdown",
   "id": "3059b61f-d1ca-4ec3-af1e-8236798d689f",
   "metadata": {},
   "source": [
    "Loops can also be reversed. The first way uses `reversed()` as follows"
   ]
  },
  {
   "cell_type": "code",
   "execution_count": 155,
   "id": "e6d14e16-ffd5-44d2-8ce1-93e2ce0c2b8d",
   "metadata": {},
   "outputs": [
    {
     "name": "stdout",
     "output_type": "stream",
     "text": [
      "4\n",
      "3\n",
      "2\n",
      "1\n",
      "0\n"
     ]
    }
   ],
   "source": [
    "for i in reversed(range(0,5)):\n",
    "    print(i)"
   ]
  },
  {
   "cell_type": "markdown",
   "id": "4a9f0f8e-851b-4413-a196-4f757a153a1c",
   "metadata": {},
   "source": [
    "That is we simply applied `reversed()` to our original range of integers.\n",
    "\n",
    "An alternative is by flipping the arguments to `range()` and indicating you wish to decrement by `-1` in the last argument."
   ]
  },
  {
   "cell_type": "code",
   "execution_count": 158,
   "id": "2249d9ad-705b-4fba-ae38-aee1801929d6",
   "metadata": {},
   "outputs": [
    {
     "name": "stdout",
     "output_type": "stream",
     "text": [
      "5\n",
      "4\n",
      "3\n",
      "2\n",
      "1\n"
     ]
    }
   ],
   "source": [
    "for i in range(5, 0, -1):\n",
    "    print(i)"
   ]
  },
  {
   "cell_type": "markdown",
   "id": "0eefcf4c-eda0-4d07-bcb2-80efc4854e0d",
   "metadata": {},
   "source": [
    "Huh - the indices aren't the same as obtained using `reversed()`. As before, the `range()` function starts with an index specified by the first argument and goes upto but not including the last argument. Hence if you want to iterate over indices `4, 3, 2, 1, 0` you would have to do"
   ]
  },
  {
   "cell_type": "code",
   "execution_count": 161,
   "id": "03562b69-ed33-42d4-aafe-15f456297716",
   "metadata": {},
   "outputs": [
    {
     "name": "stdout",
     "output_type": "stream",
     "text": [
      "4\n",
      "3\n",
      "2\n",
      "1\n",
      "0\n"
     ]
    }
   ],
   "source": [
    "for i in range(4, -1, -1): # Start at 4, decrement by -1 until you reach but don't hit -1 (i.e. stop at 0)\n",
    "    print(i)"
   ]
  },
  {
   "cell_type": "markdown",
   "id": "f4b8480c-5356-46cc-9b4a-772f0f3a4942",
   "metadata": {},
   "source": [
    "The fact to obtain identical indices with a forward loop and backward loop require you to put different arguments into range can be awkward and error prone."
   ]
  },
  {
   "cell_type": "markdown",
   "id": "75c2163b-ef23-4413-8095-2848d778d5a8",
   "metadata": {},
   "source": [
    "---\n",
    "\n",
    "**Please complete the questions in problem set 1 which can be found in `problem_set_1.pdf`**"
   ]
  }
 ],
 "metadata": {
  "kernelspec": {
   "display_name": "Python 3 (ipykernel)",
   "language": "python",
   "name": "python3"
  },
  "language_info": {
   "codemirror_mode": {
    "name": "ipython",
    "version": 3
   },
   "file_extension": ".py",
   "mimetype": "text/x-python",
   "name": "python",
   "nbconvert_exporter": "python",
   "pygments_lexer": "ipython3",
   "version": "3.12.4"
  }
 },
 "nbformat": 4,
 "nbformat_minor": 5
}
