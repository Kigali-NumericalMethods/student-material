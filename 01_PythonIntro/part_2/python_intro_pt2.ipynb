{
 "cells": [
  {
   "cell_type": "markdown",
   "id": "e91d1931-b3a0-44f0-a9ea-581a5ebbc257",
   "metadata": {},
   "source": [
    "# Python for Numerical Methods - Part 2"
   ]
  },
  {
   "cell_type": "markdown",
   "id": "0664582d-7b88-4bfa-9df1-2a323f858a21",
   "metadata": {},
   "source": [
    "## Objectives\n",
    "\n",
    "In this tutorial you will learn \n",
    "* How to write functions in Python\n",
    "* How to manage multiple variables with Python's collection objects (`list`, `tuple`)\n",
    "* How to create and manipulate arrays using NumPy"
   ]
  },
  {
   "cell_type": "markdown",
   "id": "08fd5962-8dd0-4ce5-83b7-ccb902c4e57a",
   "metadata": {},
   "source": [
    "---\n",
    "## Functions\n",
    "\n",
    "A **function** (in general) performs a **sequence of operations** on some **inputs** and produces a **result (or results)**. \n",
    "This may be written as\n",
    "\n",
    "$$\n",
    "    \\mathcal F(x_1, x_2, \\dots, x_M) = y_1, y_2, \\dots, y_N.\n",
    "$$\n",
    "In the above the function is $\\mathcal F$, the inputs are $x_1, \\dots, x_M$ and the results are $y_1, \\dots, y_N$.\n",
    "\n",
    "Let's consider a concrete example which will then implement in Python. Consider implementing \n",
    "$$\n",
    "z = x + y + 1\n",
    "$$\n",
    "as a function. The functions inputs are $x, y$, the output is $z$ and the function essentially \"adds\" the inputs and then adds 1 to that result. Let's call the function `adder`\n",
    "\n",
    "In Python we put everything together like this:\n",
    "\n",
    "``` python\n",
    "def adder(x, y):\n",
    "    var1 = x + y\n",
    "    z = var1 + 1\n",
    "    return z\n",
    "```\n"
   ]
  },
  {
   "cell_type": "markdown",
   "id": "05ee7ce2-0fe6-406a-94e2-626187090226",
   "metadata": {},
   "source": [
    "Some comments:\n",
    "* `def` tells Python we are writing a function.\n",
    "* Like `if`, `for`, the function definition line ends in a `:`.\n",
    "* The indendation level matters. Code considered within the function must be indented the same way.\n",
    "* `return` is the keyword used to send any variables trailing `return` back to the caller code (the code calling the function)."
   ]
  },
  {
   "cell_type": "markdown",
   "id": "b81168c0-0060-4d1a-b9ea-9b7f0c1c130b",
   "metadata": {},
   "source": [
    "Let's see it in usage"
   ]
  },
  {
   "cell_type": "code",
   "execution_count": 6,
   "id": "e6ef423c-9a90-40c6-ba24-30bfb74baf95",
   "metadata": {},
   "outputs": [],
   "source": [
    "# Define the function\n",
    "def adder(x, y):\n",
    "    var1 = x + y\n",
    "    z = var1 + 1\n",
    "    return z"
   ]
  },
  {
   "cell_type": "code",
   "execution_count": 8,
   "id": "e98d5bd8-3956-44e5-915e-880dc45b331b",
   "metadata": {},
   "outputs": [
    {
     "name": "stdout",
     "output_type": "stream",
     "text": [
      "4.0\n"
     ]
    }
   ],
   "source": [
    "# Caller code\n",
    "a = 1.0\n",
    "b = 2.0\n",
    "\n",
    "# Pass inputs `a` and `b` (also called arguments) into `adder`\n",
    "result = adder(a, b) # Capture the variable returned by `adder` in the variable `result`\n",
    "print(result)"
   ]
  },
  {
   "cell_type": "markdown",
   "id": "5392e90a-9616-4e5b-b790-9295abe2d49a",
   "metadata": {},
   "source": [
    "Note that the input variable names in the caller code (here `a` and `b`) do not have to match the names of the input variables used to define the function (here `x` and `y`). The same is true for the returned result of the function (`z` was used in the function definition, whilst `result` was used in the caller code)"
   ]
  },
  {
   "cell_type": "markdown",
   "id": "1b8b9f51-25db-4298-ae7a-c4ea1ac9ca70",
   "metadata": {},
   "source": [
    "Functions with multiple variables returned is easy in Python"
   ]
  },
  {
   "cell_type": "code",
   "execution_count": 12,
   "id": "510e061f-996c-44c8-8a25-a6da7dfeb914",
   "metadata": {},
   "outputs": [],
   "source": [
    "# Define the function\n",
    "def add_each(x, y):\n",
    "    z1 = x + 2\n",
    "    z2 = y**2 + 2\n",
    "    return z1, z2"
   ]
  },
  {
   "cell_type": "code",
   "execution_count": 14,
   "id": "0db88c66-046e-42df-a7c9-3d0096bc8036",
   "metadata": {},
   "outputs": [
    {
     "name": "stdout",
     "output_type": "stream",
     "text": [
      "3.0 6.0\n"
     ]
    }
   ],
   "source": [
    "# Caller code\n",
    "a = 1.0\n",
    "b = 2.0\n",
    "\n",
    "# Pass inputs `a` and `b` (also called arguments) into `add_each`\n",
    "result1, result2 = add_each(a, b) # Capture the variable returned by `adder` in the variable `result`\n",
    "print(result1, result2)"
   ]
  },
  {
   "cell_type": "markdown",
   "id": "e090d71e-da57-447a-ab7c-5247604caf81",
   "metadata": {},
   "source": [
    "A Python function does not **have** to explicitly call `return`. If you omit returning any variables Python will automatically return a special data type called `None`."
   ]
  },
  {
   "cell_type": "code",
   "execution_count": 17,
   "id": "61afba95-001e-48af-bcde-c049d4498d1a",
   "metadata": {},
   "outputs": [],
   "source": [
    "def printer_func(x):\n",
    "    print('just printing input...', 'x =', x)\n",
    "    # no return called here"
   ]
  },
  {
   "cell_type": "code",
   "execution_count": 19,
   "id": "788239b2-5435-43ce-8d7d-63e7dd746e5d",
   "metadata": {},
   "outputs": [
    {
     "name": "stdout",
     "output_type": "stream",
     "text": [
      "just printing input... x = 12.0\n"
     ]
    }
   ],
   "source": [
    "# Caller code\n",
    "a = 12.0\n",
    "\n",
    "result = printer_func(a)"
   ]
  },
  {
   "cell_type": "code",
   "execution_count": 21,
   "id": "43175190-8e4d-4fc4-bb71-b1357206f494",
   "metadata": {},
   "outputs": [
    {
     "name": "stdout",
     "output_type": "stream",
     "text": [
      "result = None\n"
     ]
    }
   ],
   "source": [
    "print('result =', result)"
   ]
  },
  {
   "cell_type": "markdown",
   "id": "3e2f5b76-1351-4fae-bfe7-0bbc4d311206",
   "metadata": {},
   "source": [
    "### Mismatched numnber of input or output args"
   ]
  },
  {
   "cell_type": "markdown",
   "id": "c00dff5f-2bca-42b5-9e5b-558f98149df2",
   "metadata": {},
   "source": [
    "If you mess up, don't worry, Python will let you know.\n",
    "\n",
    "**1.** If you use too many input arguments, this will happen"
   ]
  },
  {
   "cell_type": "code",
   "execution_count": 25,
   "id": "a99ccb9e-f262-490f-b369-a10a2b52c82b",
   "metadata": {},
   "outputs": [
    {
     "ename": "TypeError",
     "evalue": "printer_func() takes 1 positional argument but 2 were given",
     "output_type": "error",
     "traceback": [
      "\u001b[0;31m---------------------------------------------------------------------------\u001b[0m",
      "\u001b[0;31mTypeError\u001b[0m                                 Traceback (most recent call last)",
      "Cell \u001b[0;32mIn[25], line 1\u001b[0m\n\u001b[0;32m----> 1\u001b[0m result \u001b[38;5;241m=\u001b[39m printer_func(\u001b[38;5;241m1.0\u001b[39m, \u001b[38;5;241m2.0\u001b[39m)\n",
      "\u001b[0;31mTypeError\u001b[0m: printer_func() takes 1 positional argument but 2 were given"
     ]
    }
   ],
   "source": [
    "result = printer_func(1.0, 2.0)"
   ]
  },
  {
   "cell_type": "markdown",
   "id": "3c1251ce-9f5b-4ce5-b10f-296a15f8a8e4",
   "metadata": {},
   "source": [
    "Translation, the function expected one arguement (\"1 positional argument\") however you provided two (\"2 were given\")"
   ]
  },
  {
   "cell_type": "markdown",
   "id": "03d7bc51-9296-4261-b925-f5323654199d",
   "metadata": {},
   "source": [
    "**2.** If you do not have enough input arguments, this will happen"
   ]
  },
  {
   "cell_type": "code",
   "execution_count": 28,
   "id": "31cc6f17-b876-4ed2-8cd5-72b97e266b92",
   "metadata": {},
   "outputs": [
    {
     "ename": "TypeError",
     "evalue": "add_each() missing 1 required positional argument: 'y'",
     "output_type": "error",
     "traceback": [
      "\u001b[0;31m---------------------------------------------------------------------------\u001b[0m",
      "\u001b[0;31mTypeError\u001b[0m                                 Traceback (most recent call last)",
      "Cell \u001b[0;32mIn[28], line 1\u001b[0m\n\u001b[0;32m----> 1\u001b[0m result1, result2 \u001b[38;5;241m=\u001b[39m add_each(\u001b[38;5;241m1.0\u001b[39m)\n",
      "\u001b[0;31mTypeError\u001b[0m: add_each() missing 1 required positional argument: 'y'"
     ]
    }
   ],
   "source": [
    "result1, result2 = add_each(1.0)"
   ]
  },
  {
   "cell_type": "markdown",
   "id": "17fcbcfa-0d3d-4407-8b55-3b0366a085ba",
   "metadata": {},
   "source": [
    "**3.** If you have too many output arguments, this will happen"
   ]
  },
  {
   "cell_type": "code",
   "execution_count": 31,
   "id": "f4fd2625-194f-4e0f-b921-feff8d29e2f5",
   "metadata": {},
   "outputs": [
    {
     "name": "stdout",
     "output_type": "stream",
     "text": [
      "just printing input... x = 12.0\n"
     ]
    },
    {
     "ename": "TypeError",
     "evalue": "cannot unpack non-iterable NoneType object",
     "output_type": "error",
     "traceback": [
      "\u001b[0;31m---------------------------------------------------------------------------\u001b[0m",
      "\u001b[0;31mTypeError\u001b[0m                                 Traceback (most recent call last)",
      "Cell \u001b[0;32mIn[31], line 1\u001b[0m\n\u001b[0;32m----> 1\u001b[0m result1, result2 \u001b[38;5;241m=\u001b[39m printer_func(a)\n",
      "\u001b[0;31mTypeError\u001b[0m: cannot unpack non-iterable NoneType object"
     ]
    }
   ],
   "source": [
    "result1, result2 = printer_func(a)"
   ]
  },
  {
   "cell_type": "markdown",
   "id": "ff07cd15-bb20-4f60-9da3-239b654694cc",
   "metadata": {},
   "source": [
    "The messagae is less clear, but failure to \"unpack\" means Python could not shove the outputs into the variables you had next to the function call."
   ]
  },
  {
   "cell_type": "markdown",
   "id": "82b2d5e2-ce37-4d80-9290-ff90939c3591",
   "metadata": {},
   "source": [
    "**4.** If you do not have enough output arguments"
   ]
  },
  {
   "cell_type": "code",
   "execution_count": 35,
   "id": "96f20113-a841-42a7-8150-86436f18a88c",
   "metadata": {},
   "outputs": [],
   "source": [
    "result = add_each(1.0, 2.0)"
   ]
  },
  {
   "cell_type": "markdown",
   "id": "c34c96fb-b32b-4e20-b1a9-d64b8d860c6b",
   "metadata": {},
   "source": [
    "This one is sneaky. The call worked without error, however `result` is possibly not what you expected. Check its type"
   ]
  },
  {
   "cell_type": "code",
   "execution_count": 38,
   "id": "cca7fe53-06d6-4b2c-9c17-b6430b40c21e",
   "metadata": {},
   "outputs": [
    {
     "name": "stdout",
     "output_type": "stream",
     "text": [
      "<class 'tuple'>\n"
     ]
    }
   ],
   "source": [
    "print(type(result))"
   ]
  },
  {
   "cell_type": "markdown",
   "id": "43667685-5b7a-4669-83b2-cea88346025c",
   "metadata": {},
   "source": [
    "A `tuple` is a type of collection (we will learn more about this in the next section).\n",
    "Printing `result` we see that in fact the numbers inside the `tuple` are correct, however the expected numbers have been packed inside some data type."
   ]
  },
  {
   "cell_type": "code",
   "execution_count": 41,
   "id": "22523441-17d2-4ce1-b46b-09458a06f405",
   "metadata": {},
   "outputs": [
    {
     "name": "stdout",
     "output_type": "stream",
     "text": [
      "(3.0, 6.0)\n"
     ]
    }
   ],
   "source": [
    "print(result)"
   ]
  },
  {
   "cell_type": "markdown",
   "id": "e50a78b1-56c3-4b57-9a32-7a542547c8d7",
   "metadata": {},
   "source": [
    "---\n",
    "## Collections: `list` and `tuple`"
   ]
  },
  {
   "cell_type": "markdown",
   "id": "b9c911da-da40-4402-be35-a40a9909a8e0",
   "metadata": {},
   "source": [
    "Python natively provides several data structures to support collections of variables.\n",
    "\n",
    "The first of these we will discuss is called `list`."
   ]
  },
  {
   "cell_type": "markdown",
   "id": "fe510f1b-ca7f-420a-8bf2-7684016ebde1",
   "metadata": {},
   "source": [
    "### The `list` object\n",
    "\n",
    "Below is an example code defining a `list` of integers"
   ]
  },
  {
   "cell_type": "code",
   "execution_count": 46,
   "id": "874814dc-6574-4bb9-9068-561cdd5f4ed2",
   "metadata": {},
   "outputs": [],
   "source": [
    "var_1 = [ 1, 2, 55, -2, 32 ]"
   ]
  },
  {
   "cell_type": "markdown",
   "id": "163fc905-4f9f-4123-b3b0-70ada4facee4",
   "metadata": {},
   "source": [
    "Python figures out we want to create a `list` by the **square** parenthesis (`[` and `]`). Within the open and closed square parenthesis we comma separate all the elements we wish to include in our `list`.\n",
    "\n",
    "Printing `list`s is simple"
   ]
  },
  {
   "cell_type": "code",
   "execution_count": 49,
   "id": "85f0117e-96f2-4ea9-b3b7-b7a7262ce2d7",
   "metadata": {},
   "outputs": [
    {
     "name": "stdout",
     "output_type": "stream",
     "text": [
      "[1, 2, 55, -2, 32]\n"
     ]
    }
   ],
   "source": [
    "print(var_1)"
   ]
  },
  {
   "cell_type": "markdown",
   "id": "87858ec9-c122-42ed-89d6-191efcabe5c2",
   "metadata": {},
   "source": [
    "Let's check the data type of `var_1` just to be sure we got what we expected"
   ]
  },
  {
   "cell_type": "code",
   "execution_count": 52,
   "id": "475afb43-02f1-4fa5-a3c6-82172bd84978",
   "metadata": {},
   "outputs": [
    {
     "name": "stdout",
     "output_type": "stream",
     "text": [
      "var_1 is a <class 'list'>\n"
     ]
    }
   ],
   "source": [
    "print('var_1 is a', type(var_1))"
   ]
  },
  {
   "cell_type": "markdown",
   "id": "1ee83362-fb64-45f9-99eb-7f22a0104a71",
   "metadata": {},
   "source": [
    "One thing that is useful about `list`s is that you don't have to know in advance what you will put it them at the time the variable is declared. We can create an empty `list` and then append elements to it. For example"
   ]
  },
  {
   "cell_type": "code",
   "execution_count": 55,
   "id": "df28cb6f-5dc6-4491-8452-af474935e064",
   "metadata": {},
   "outputs": [
    {
     "name": "stdout",
     "output_type": "stream",
     "text": [
      "[]\n"
     ]
    }
   ],
   "source": [
    "var_2 = list() # This is an empty list\n",
    "print(var_2) # Check it's empty"
   ]
  },
  {
   "cell_type": "code",
   "execution_count": 57,
   "id": "424d1877-4b5e-4104-903f-2cdc6b2ab2f0",
   "metadata": {},
   "outputs": [],
   "source": [
    "var_2.append(1) # Insert the integer 1 into the list"
   ]
  },
  {
   "cell_type": "code",
   "execution_count": 59,
   "id": "9c529969-9619-4492-8711-e8600ede6651",
   "metadata": {},
   "outputs": [
    {
     "name": "stdout",
     "output_type": "stream",
     "text": [
      "[1]\n"
     ]
    }
   ],
   "source": [
    "print(var_2)"
   ]
  },
  {
   "cell_type": "code",
   "execution_count": 61,
   "id": "527ac0a0-e6bc-4777-ac7b-029c7d614e37",
   "metadata": {},
   "outputs": [
    {
     "name": "stdout",
     "output_type": "stream",
     "text": [
      "var_2 now contains [1, 2, 55, -2, 32] which should be identical to var_1 [1, 2, 55, -2, 32]\n"
     ]
    }
   ],
   "source": [
    "var_2.append(2)\n",
    "var_2.append(55)\n",
    "var_2.append(-2)\n",
    "var_2.append(32)\n",
    "print('var_2 now contains', var_2, 'which should be identical to var_1', var_1)"
   ]
  },
  {
   "cell_type": "markdown",
   "id": "ad986075-1481-465e-8dd5-47fc7dc840c8",
   "metadata": {},
   "source": [
    "Note that `list`s can store any kind of data type you like. \n",
    "\n",
    "You can access the element of a `list` like this"
   ]
  },
  {
   "cell_type": "code",
   "execution_count": 64,
   "id": "276c79be-ab4d-4b2e-9529-f8bca80dbc73",
   "metadata": {},
   "outputs": [
    {
     "name": "stdout",
     "output_type": "stream",
     "text": [
      "1\n"
     ]
    }
   ],
   "source": [
    "z = var_1[0] # Access the first element in var_1\n",
    "print(z)"
   ]
  },
  {
   "cell_type": "code",
   "execution_count": 66,
   "id": "4cb94f7e-9938-4067-9de0-690506544f25",
   "metadata": {},
   "outputs": [
    {
     "name": "stdout",
     "output_type": "stream",
     "text": [
      "2\n"
     ]
    }
   ],
   "source": [
    "z = var_1[1] # Access the second element in var_1\n",
    "print(z)"
   ]
  },
  {
   "cell_type": "markdown",
   "id": "b70692da-68c0-4d92-ab92-4ceade569544",
   "metadata": {},
   "source": [
    "Takehome message - Python uses **0-based** indices for collections and everything else."
   ]
  },
  {
   "cell_type": "markdown",
   "id": "d3c39b35-d09a-4f47-a0b9-7e83adbff2d0",
   "metadata": {},
   "source": [
    "### The `tuple` object\n",
    "\n",
    "Below is an example code defining a `tuple` of integers"
   ]
  },
  {
   "cell_type": "code",
   "execution_count": 70,
   "id": "feba9591-405f-4b48-ab92-a306ffa9464f",
   "metadata": {},
   "outputs": [],
   "source": [
    "var_1_t = ( 1, 2, 55, -2, 32 )"
   ]
  },
  {
   "cell_type": "markdown",
   "id": "8fa8dfc1-57ad-4004-8bde-1b4593be1832",
   "metadata": {},
   "source": [
    "Python figures out we want to create a `tuple` by the **round** parenthesis (`(` and `)`). Within the open and closed round parenthesis we comma separate all the elements we wish to include in our `tuple`.\n",
    "\n",
    "Printing `list`s is simple"
   ]
  },
  {
   "cell_type": "code",
   "execution_count": 73,
   "id": "c9512268-0a67-4f77-be19-34d2896a390e",
   "metadata": {},
   "outputs": [
    {
     "name": "stdout",
     "output_type": "stream",
     "text": [
      "(1, 2, 55, -2, 32)\n"
     ]
    }
   ],
   "source": [
    "print(var_1_t)"
   ]
  },
  {
   "cell_type": "markdown",
   "id": "e381024d-1378-4d24-adfb-f3ee34e4e539",
   "metadata": {},
   "source": [
    "The big difference between the `tuple` and the `list` is that the `tuple` cannot be extended or changed once it is created. You cannot create an empty `tuple` and then `.append()` elements into it."
   ]
  },
  {
   "cell_type": "markdown",
   "id": "4d381ce0-f433-4d00-ba77-6588578cea97",
   "metadata": {},
   "source": [
    "When you have more than one input arguments to function, internally Python can handle these a tuple.\n",
    "When a function `return`s more than one variable, these can also be handled via a `tuple`.\n",
    "\n",
    "Let's summarize:\n",
    "* If you have a function with more than one argument (say `x`, `y`, `z`) and when calling it you pass in one variable (say `input`), Python will treat `input` as if it were a `tuple` and try to *unpack* it into `x`, `y`, `z`.\n",
    "* If you have a function returning more than one variable (say `r1`, `r2`, `r3`) and when calling it you capture the output in one variable (say 'result'), Python will *pack* `r1`, `r2`, `r3` into a `tuple`."
   ]
  },
  {
   "cell_type": "markdown",
   "id": "a4c2e85c-46c5-40e2-8c65-f626da03ae11",
   "metadata": {},
   "source": [
    "---\n",
    "## Arrays with `numpy`"
   ]
  },
  {
   "cell_type": "markdown",
   "id": "95e2685a-6653-468e-89b0-8d88416f930a",
   "metadata": {},
   "source": [
    "Arrays are fundemental objects in numnerical methods. Support for arrays is best provided using the Python package NumPy (`numpy`)."
   ]
  },
  {
   "cell_type": "markdown",
   "id": "10cbc373-5aef-476b-8f53-5c5fd2582d34",
   "metadata": {},
   "source": [
    "Like the `math` and `cmath` packages, we will need to `import numpy` to be able to use its array functionality."
   ]
  },
  {
   "cell_type": "code",
   "execution_count": 80,
   "id": "3f6e21be-5af0-476a-8264-c10113fae80a",
   "metadata": {},
   "outputs": [],
   "source": [
    "import numpy"
   ]
  },
  {
   "cell_type": "markdown",
   "id": "57eca4ea-2d15-44e0-927e-0b4f20258412",
   "metadata": {},
   "source": [
    "To create an array there are several possibilities\n",
    "\n",
    "1. Create an empty array of length $N$. By default the array will be filled with zeros.\n",
    "2. Create an array using a `list`."
   ]
  },
  {
   "cell_type": "markdown",
   "id": "596b0648-ab9f-4cce-82ba-36e801793624",
   "metadata": {},
   "source": [
    "An example of Option 1 is shown below"
   ]
  },
  {
   "cell_type": "code",
   "execution_count": 84,
   "id": "6b0c9b13-fb00-452a-86ac-0aadd81127c7",
   "metadata": {},
   "outputs": [
    {
     "name": "stdout",
     "output_type": "stream",
     "text": [
      "[0. 0. 0. 0.]\n"
     ]
    }
   ],
   "source": [
    "N = 4               # Set the length of the array to be 4\n",
    "x = numpy.zeros(N)  # Create the empty array\n",
    "print(x)            # Print the array"
   ]
  },
  {
   "cell_type": "code",
   "execution_count": 86,
   "id": "031bfd2a-c922-4e4a-a5cb-3febc46acbc0",
   "metadata": {},
   "outputs": [
    {
     "name": "stdout",
     "output_type": "stream",
     "text": [
      "type(x) <class 'numpy.ndarray'>\n"
     ]
    }
   ],
   "source": [
    "# Check the type\n",
    "print('type(x)', type(x))"
   ]
  },
  {
   "cell_type": "markdown",
   "id": "63110c4b-9bf9-4cab-87b8-7399ddd86215",
   "metadata": {},
   "source": [
    "While `print(x)` displays something to the screen which looks like it might be a `list`, `type(x)` confirms it is not, rather it's data type is `ndarray`."
   ]
  },
  {
   "cell_type": "markdown",
   "id": "f4263d9a-cb7e-4d94-bbe4-c8b25a3cfea7",
   "metadata": {},
   "source": [
    "Here is an example of Option 2."
   ]
  },
  {
   "cell_type": "code",
   "execution_count": 90,
   "id": "a4a1a981-5da9-497f-9c74-090e3cf9c8ce",
   "metadata": {},
   "outputs": [],
   "source": [
    "data = [ 1.1, 2.2, 4.4, 1.0e-3 ] # input data given as a list of real (float) numbers"
   ]
  },
  {
   "cell_type": "code",
   "execution_count": 92,
   "id": "b9144b9f-1198-4bfe-930b-670657741292",
   "metadata": {},
   "outputs": [],
   "source": [
    "y = numpy.array( data )"
   ]
  },
  {
   "cell_type": "code",
   "execution_count": 94,
   "id": "f038bf3f-1de0-4ee8-9917-41e085ffc724",
   "metadata": {},
   "outputs": [
    {
     "name": "stdout",
     "output_type": "stream",
     "text": [
      "[1.1e+00 2.2e+00 4.4e+00 1.0e-03]\n"
     ]
    }
   ],
   "source": [
    "print(y)"
   ]
  },
  {
   "cell_type": "markdown",
   "id": "ed0a1db3-b677-4b17-ac5b-7de518831a15",
   "metadata": {},
   "source": [
    "In the above code, we give `numpy.array()` our `list` variable (here called `data`) and it takes the contents of the list and inserts them into an `ndarray`."
   ]
  },
  {
   "cell_type": "markdown",
   "id": "1ee64647-f8a7-458f-9be9-42f7363a17fa",
   "metadata": {},
   "source": [
    "Now we know how to create 1-D arrays. 2-D arrays (actually $N$-D arraus) can also be created.\n",
    "To create a 2-D array of dimensions $4 \\times 3), e.g. for rows and 3 columns we do this"
   ]
  },
  {
   "cell_type": "code",
   "execution_count": 98,
   "id": "963710e2-acb2-4f6f-8e29-e32d19c8c31b",
   "metadata": {},
   "outputs": [
    {
     "name": "stdout",
     "output_type": "stream",
     "text": [
      "[0. 0. 0. 0.]\n"
     ]
    }
   ],
   "source": [
    "nrows = 4                          # Number of rows\n",
    "ncols = 3                          # Number of columns\n",
    "A = numpy.zeros( [nrows, ncols] )  # Create the empty array, providing the number of rows, columns\n",
    "print(x)                           # Print the array"
   ]
  },
  {
   "cell_type": "markdown",
   "id": "9d50d624-0ca9-4083-ba86-95f5747e9e98",
   "metadata": {},
   "source": [
    "To access or set $i,j$ entries within `A`, we use `A[i, j]`. For example"
   ]
  },
  {
   "cell_type": "code",
   "execution_count": 101,
   "id": "4fe51b15-d516-44fb-b60f-445d26c24793",
   "metadata": {},
   "outputs": [],
   "source": [
    "A[2, 1] = 4"
   ]
  },
  {
   "cell_type": "markdown",
   "id": "6c901b08-049c-493f-8728-19187f81b6a7",
   "metadata": {},
   "source": [
    "will set the value in row 3, column 2 to 4.0. Remember Python uses 0-based indices. Check with `print()`"
   ]
  },
  {
   "cell_type": "code",
   "execution_count": 104,
   "id": "b4523a40-c7ee-40b4-b84b-b5adf194e48f",
   "metadata": {},
   "outputs": [
    {
     "name": "stdout",
     "output_type": "stream",
     "text": [
      "[[0. 0. 0.]\n",
      " [0. 0. 0.]\n",
      " [0. 4. 0.]\n",
      " [0. 0. 0.]]\n"
     ]
    }
   ],
   "source": [
    "print(A)"
   ]
  },
  {
   "cell_type": "markdown",
   "id": "13857928-3555-4638-9de1-86f563af85c0",
   "metadata": {},
   "source": [
    "Lastly, it is helpful to know how to check the dimension, length of each dimension and data type stored in an `ndarray`."
   ]
  },
  {
   "cell_type": "markdown",
   "id": "04efac05-7757-4b66-ad72-e70146772497",
   "metadata": {},
   "source": [
    "We know how to check something is an `ndarray`. Let's see it again"
   ]
  },
  {
   "cell_type": "code",
   "execution_count": 108,
   "id": "1d702349-c9df-42d4-b919-9f7a1aa0bf21",
   "metadata": {},
   "outputs": [
    {
     "name": "stdout",
     "output_type": "stream",
     "text": [
      "A is an ndarray\n"
     ]
    }
   ],
   "source": [
    "if isinstance(A, numpy.ndarray):\n",
    "    print('A is an ndarray')"
   ]
  },
  {
   "cell_type": "markdown",
   "id": "d82c0fd9-f840-4c63-9bd6-ad5f861113a6",
   "metadata": {},
   "source": [
    "To check the dimension of an `ndarray`, use `.ndim`."
   ]
  },
  {
   "cell_type": "code",
   "execution_count": 111,
   "id": "559b3ea0-f334-4539-83d2-332a1decbde4",
   "metadata": {},
   "outputs": [
    {
     "name": "stdout",
     "output_type": "stream",
     "text": [
      "2\n"
     ]
    }
   ],
   "source": [
    "print(A.ndim) # Check A is a 2-D array"
   ]
  },
  {
   "cell_type": "markdown",
   "id": "1d899c33-778a-413e-b276-0364cc31b7f0",
   "metadata": {},
   "source": [
    "To check the length of each dimension, use `.shape`."
   ]
  },
  {
   "cell_type": "code",
   "execution_count": 114,
   "id": "ea8ad5d4-8388-4a7c-8551-01e61dc3a71c",
   "metadata": {},
   "outputs": [
    {
     "name": "stdout",
     "output_type": "stream",
     "text": [
      "(4, 3)\n"
     ]
    }
   ],
   "source": [
    "print(A.shape) # Chcek A has 4 rows and 3 columns"
   ]
  },
  {
   "cell_type": "markdown",
   "id": "05ff6f11-2da9-4dc2-a52c-6faf924b5922",
   "metadata": {},
   "source": [
    "To know what the data type is of the elements within an `ndarray`, use `.dtype` (short for data type). For `A` we find"
   ]
  },
  {
   "cell_type": "code",
   "execution_count": 117,
   "id": "da0f68c2-66bf-48a7-a6b4-5466e2bc6a8b",
   "metadata": {},
   "outputs": [
    {
     "name": "stdout",
     "output_type": "stream",
     "text": [
      "float64\n"
     ]
    }
   ],
   "source": [
    "print(A.dtype)"
   ]
  },
  {
   "cell_type": "markdown",
   "id": "aca4642c-e14a-4118-a49f-b0305befcd9a",
   "metadata": {},
   "source": [
    "`float64` is a double precision floating point number, something you would use to represent real numbers."
   ]
  },
  {
   "cell_type": "markdown",
   "id": "cfc26def-8ec9-4232-98c9-bdc659b74941",
   "metadata": {},
   "source": [
    "When creating `ndarray`, one can choose the data type. Here is how to create an empty $2 \\times 2$ array of integers"
   ]
  },
  {
   "cell_type": "code",
   "execution_count": 121,
   "id": "7265e543-c71a-47d7-be91-b9cd10e9da25",
   "metadata": {},
   "outputs": [],
   "source": [
    "Ai = numpy.zeros( [2, 2], dtype=numpy.int32 )"
   ]
  },
  {
   "cell_type": "code",
   "execution_count": 123,
   "id": "3f2ad4bb-bd34-43cc-8ec2-a6836cf19131",
   "metadata": {},
   "outputs": [
    {
     "name": "stdout",
     "output_type": "stream",
     "text": [
      "[[0 0]\n",
      " [0 0]]\n"
     ]
    }
   ],
   "source": [
    "print(Ai)"
   ]
  },
  {
   "cell_type": "code",
   "execution_count": 125,
   "id": "2e866192-45ce-461e-9317-fce3065a38e0",
   "metadata": {},
   "outputs": [
    {
     "name": "stdout",
     "output_type": "stream",
     "text": [
      "int32\n"
     ]
    }
   ],
   "source": [
    "print(Ai.dtype)"
   ]
  },
  {
   "cell_type": "markdown",
   "id": "af56dd52-b169-4862-8330-cdc548205e7d",
   "metadata": {},
   "source": [
    "Here we force real numbers be used in a 2-D array"
   ]
  },
  {
   "cell_type": "code",
   "execution_count": 128,
   "id": "ae811d03-b72b-49bc-afff-8ad1955f5a4e",
   "metadata": {},
   "outputs": [
    {
     "name": "stdout",
     "output_type": "stream",
     "text": [
      "float64\n"
     ]
    }
   ],
   "source": [
    "Ar = numpy.zeros( [2, 2], dtype=numpy.float64 )\n",
    "print(Ar.dtype)"
   ]
  },
  {
   "cell_type": "markdown",
   "id": "d0302b34-1a83-4544-903d-64c31ca2d55a",
   "metadata": {},
   "source": [
    "By default `ndarray`s created using `.zeros` will use `float64`."
   ]
  },
  {
   "cell_type": "markdown",
   "id": "ce491bf3-d47d-4121-a4b8-5e0c46cbe64b",
   "metadata": {},
   "source": [
    "---\n",
    "## Operations with `ndarray`s"
   ]
  },
  {
   "cell_type": "markdown",
   "id": "6cddeb53-f275-40a9-8d25-4a61a744e3d5",
   "metadata": {},
   "source": [
    "There is something pretty neat you *can* do with `ndarrays`. \n",
    "Suppose I have two vectors\n",
    "$$\n",
    "x = (1, 2, 3), \\quad y = (4, 5, 6)\n",
    "$$\n",
    "and I wanted to compute $z = x + y$. We can do this using loops. \n",
    "\n",
    "First I create $x$ and $y$."
   ]
  },
  {
   "cell_type": "code",
   "execution_count": 133,
   "id": "6f967d0b-d4ab-40a7-84e6-d262517edb56",
   "metadata": {},
   "outputs": [],
   "source": [
    "x = numpy.array( [1.0, 2.0, 3.0] )\n",
    "y = numpy.array( [4.0, 5.0, 6.0] )"
   ]
  },
  {
   "cell_type": "markdown",
   "id": "7f98287f-2c28-4861-9311-f2394e152858",
   "metadata": {},
   "source": [
    "Then I create an empty array of length 3"
   ]
  },
  {
   "cell_type": "code",
   "execution_count": 136,
   "id": "1327c890-4811-40ff-a80c-ffaf63167c1a",
   "metadata": {},
   "outputs": [],
   "source": [
    "z = numpy.zeros(3)"
   ]
  },
  {
   "cell_type": "markdown",
   "id": "cb9437d3-fba3-402b-a231-3385e44e06a3",
   "metadata": {},
   "source": [
    "Then I loop though indices $0, 1, 2$ and add each $z_i = x_i + y_i$, which in Python will look like `z[i] = x[i] + y[i]`."
   ]
  },
  {
   "cell_type": "code",
   "execution_count": 139,
   "id": "45a1aa45-2649-4401-9c90-608e9af503aa",
   "metadata": {},
   "outputs": [],
   "source": [
    "for i in range(0, 3):\n",
    "    z[i] = x[i] + y[i]"
   ]
  },
  {
   "cell_type": "code",
   "execution_count": 141,
   "id": "15c09214-d138-45d0-bd7f-1c51a143b7ff",
   "metadata": {},
   "outputs": [
    {
     "name": "stdout",
     "output_type": "stream",
     "text": [
      "z = [5. 7. 9.]\n"
     ]
    }
   ],
   "source": [
    "print('z =', z)"
   ]
  },
  {
   "cell_type": "markdown",
   "id": "6e336cd3-e82d-4695-b062-cdcab4732151",
   "metadata": {},
   "source": [
    "Ok - that is clear. Numpy lets you do all this in one-liner. For example do this"
   ]
  },
  {
   "cell_type": "code",
   "execution_count": 143,
   "id": "453debe5-9f13-4d0f-a584-78fe837e81a8",
   "metadata": {},
   "outputs": [],
   "source": [
    "z_all_at_once = x + y"
   ]
  },
  {
   "cell_type": "markdown",
   "id": "0162237c-745c-4577-a676-f771d4a85e9c",
   "metadata": {},
   "source": [
    "results in "
   ]
  },
  {
   "cell_type": "code",
   "execution_count": 147,
   "id": "bc86f775-f49c-4dcc-9571-97e57ca1dad4",
   "metadata": {},
   "outputs": [
    {
     "name": "stdout",
     "output_type": "stream",
     "text": [
      "z_all_at_once = [5. 7. 9.]\n"
     ]
    }
   ],
   "source": [
    "print('z_all_at_once =', z_all_at_once)"
   ]
  },
  {
   "cell_type": "markdown",
   "id": "0da08f34-c6f8-49cb-aa6d-ed299285293f",
   "metadata": {},
   "source": [
    "which is exactly the same as `z`."
   ]
  },
  {
   "cell_type": "markdown",
   "id": "e7ce3ec0-0fa6-4fbd-befe-d2decb942c0d",
   "metadata": {},
   "source": [
    "When you do `+` between two `ndarray`s of the same length, NumPy will execute the loop for you."
   ]
  },
  {
   "cell_type": "markdown",
   "id": "2fc9b950-833b-4fc4-87f4-825a51e79b58",
   "metadata": {},
   "source": [
    "This can be pretty handy, and makes for less code for you to write. \n",
    "Of course it can also be quite confusing until you get used to it.\n",
    "\n",
    "When dealing with a complicated algorithm, I strongly suggest you always write loop-based code first, get the algorithm working, then think about using the nice NumPy trick later."
   ]
  },
  {
   "cell_type": "markdown",
   "id": "52fb57c1-6b37-461b-b7ec-2903b4489f80",
   "metadata": {},
   "source": [
    "Here is a situation where the numpy trick is really handy, and simple(ish) to understand.\n",
    "\n",
    "Suppose I had a collection of angles $\\theta = [ 0, 0.1 \\pi, 0.4 \\pi, 0.5\\pi, 1.1 \\pi]$ and I wanted to compute `\\sin()` on each angle. We can do this in one-line using an `ndarray` storing all the angles, and using **NumPy**'s $\\sin()$ function (not this will NOT work if you use math.sin())."
   ]
  },
  {
   "cell_type": "code",
   "execution_count": 153,
   "id": "47eb7870-84f3-46ac-a4a2-b0133e016675",
   "metadata": {},
   "outputs": [],
   "source": [
    "thetas = numpy.array(  [0.0, 0.1*numpy.pi, 0.4*numpy.pi, 0.5*numpy.pi, 1.1*numpy.pi]  )"
   ]
  },
  {
   "cell_type": "code",
   "execution_count": 155,
   "id": "481430fd-0ca4-4f60-93f0-803e5e73e8e2",
   "metadata": {},
   "outputs": [],
   "source": [
    "sin_thetas = numpy.sin( thetas )"
   ]
  },
  {
   "cell_type": "code",
   "execution_count": 157,
   "id": "2073dcce-6574-4fe0-966b-38c8a768a94d",
   "metadata": {},
   "outputs": [
    {
     "name": "stdout",
     "output_type": "stream",
     "text": [
      "sins  [ 0.          0.30901699  0.95105652  1.         -0.30901699]\n"
     ]
    }
   ],
   "source": [
    "print('sins ', sin_thetas)"
   ]
  },
  {
   "cell_type": "markdown",
   "id": "8a05dd2f-c135-40b7-b707-c1a79955d32d",
   "metadata": {},
   "source": [
    "Just to make the point about mixing data structures between Python packages and functions from different packages. Below I `import math` and try and give it our `ndarray` of angles. It doesn't work with the message `only length-1 arrays can be converted to Python scalars`"
   ]
  },
  {
   "cell_type": "code",
   "execution_count": 160,
   "id": "8889358b-a310-491f-a789-ed6d90ab8125",
   "metadata": {},
   "outputs": [
    {
     "ename": "TypeError",
     "evalue": "only length-1 arrays can be converted to Python scalars",
     "output_type": "error",
     "traceback": [
      "\u001b[0;31m---------------------------------------------------------------------------\u001b[0m",
      "\u001b[0;31mTypeError\u001b[0m                                 Traceback (most recent call last)",
      "Cell \u001b[0;32mIn[160], line 3\u001b[0m\n\u001b[1;32m      1\u001b[0m \u001b[38;5;28;01mimport\u001b[39;00m \u001b[38;5;21;01mmath\u001b[39;00m\n\u001b[0;32m----> 3\u001b[0m math\u001b[38;5;241m.\u001b[39msin(thetas)\n",
      "\u001b[0;31mTypeError\u001b[0m: only length-1 arrays can be converted to Python scalars"
     ]
    }
   ],
   "source": [
    "import math\n",
    "\n",
    "math.sin(thetas)"
   ]
  },
  {
   "cell_type": "markdown",
   "id": "ae33a119-4f46-465f-9ad0-923e962a1021",
   "metadata": {},
   "source": [
    "---\n",
    "## Complex numbers and `ndarrays`"
   ]
  },
  {
   "cell_type": "markdown",
   "id": "271521fb-c5b6-4293-9998-45b80e81d887",
   "metadata": {},
   "source": [
    "Lets first create a `list` of complex numbers."
   ]
  },
  {
   "cell_type": "code",
   "execution_count": 164,
   "id": "1041b693-be5e-4253-a8e9-22c8c6d65486",
   "metadata": {},
   "outputs": [],
   "source": [
    "zs_l = [ 1.1 + 3j, 3.3 + 5j ]"
   ]
  },
  {
   "cell_type": "markdown",
   "id": "a5f40406-07ba-4e44-81ba-fad9e27169be",
   "metadata": {},
   "source": [
    "We can create a complex array with NumPy like this"
   ]
  },
  {
   "cell_type": "code",
   "execution_count": 167,
   "id": "055cf671-1c41-4e0b-9c86-5bbc07066110",
   "metadata": {},
   "outputs": [],
   "source": [
    "zs = numpy.array(zs_l)"
   ]
  },
  {
   "cell_type": "code",
   "execution_count": 169,
   "id": "b9f9ffe4-2c02-43fc-9bdc-9135258cb5f6",
   "metadata": {},
   "outputs": [
    {
     "name": "stdout",
     "output_type": "stream",
     "text": [
      "[1.1+3.j 3.3+5.j]\n"
     ]
    }
   ],
   "source": [
    "print(zs)"
   ]
  },
  {
   "cell_type": "markdown",
   "id": "7206cd8d-bb30-4671-b646-0a3d8aad812e",
   "metadata": {},
   "source": [
    "Note that this is identical to how arrays of real numbers were created. The only difference is what was in the input `list` passed to `numpy.array`. Let's check the type of `zs` and the data type used *within* `zs`."
   ]
  },
  {
   "cell_type": "code",
   "execution_count": 172,
   "id": "f209f2ab-e0e5-4ea3-9738-dcd3b28cc234",
   "metadata": {},
   "outputs": [
    {
     "name": "stdout",
     "output_type": "stream",
     "text": [
      "<class 'numpy.ndarray'> complex128\n"
     ]
    }
   ],
   "source": [
    "print(type(zs), zs.dtype)"
   ]
  },
  {
   "cell_type": "markdown",
   "id": "77b0fd59-df2f-4953-8167-47eb50706102",
   "metadata": {},
   "source": [
    "So we can see that the type NumPy uses to represent complex numbers where the real and imaginary parts are themselves real numbers is `complex128`. Hence to create an empty 2-D array of complex numbers with size $4 \\times 3$ can do achieved like this"
   ]
  },
  {
   "cell_type": "code",
   "execution_count": 175,
   "id": "699cfc46-275f-40c9-a4fb-bf4d1ac3467c",
   "metadata": {},
   "outputs": [],
   "source": [
    "Ac = numpy.zeros( (4,3), dtype=numpy.complex128)"
   ]
  },
  {
   "cell_type": "code",
   "execution_count": 177,
   "id": "bdf7e97c-1713-44b6-a7f0-84da298cd655",
   "metadata": {},
   "outputs": [
    {
     "name": "stdout",
     "output_type": "stream",
     "text": [
      "[[0.+0.j 0.+0.j 0.+0.j]\n",
      " [0.+0.j 0.+0.j 0.+0.j]\n",
      " [0.+0.j 0.+0.j 0.+0.j]\n",
      " [0.+0.j 0.+0.j 0.+0.j]]\n"
     ]
    }
   ],
   "source": [
    "print(Ac)"
   ]
  },
  {
   "cell_type": "markdown",
   "id": "3204fa3d-e061-48d6-a300-a294d7a798d6",
   "metadata": {},
   "source": [
    "If you want to manipulate a single element of `Ac`, you can do so like this"
   ]
  },
  {
   "cell_type": "code",
   "execution_count": 180,
   "id": "e8fb1129-26df-4f7f-b60b-91bb31b8b2ae",
   "metadata": {},
   "outputs": [],
   "source": [
    "Ac[1,1] = 2j"
   ]
  },
  {
   "cell_type": "code",
   "execution_count": 182,
   "id": "d8d635c5-ef50-4b68-a93a-a39dae171bd8",
   "metadata": {},
   "outputs": [
    {
     "name": "stdout",
     "output_type": "stream",
     "text": [
      "[[0.+0.j 0.+0.j 0.+0.j]\n",
      " [0.+0.j 0.+2.j 0.+0.j]\n",
      " [0.+0.j 0.+0.j 0.+0.j]\n",
      " [0.+0.j 0.+0.j 0.+0.j]]\n"
     ]
    }
   ],
   "source": [
    "print(Ac)"
   ]
  },
  {
   "cell_type": "markdown",
   "id": "2cb25d69-d31e-4968-8587-2ca320f27ddc",
   "metadata": {},
   "source": [
    "Or like this"
   ]
  },
  {
   "cell_type": "code",
   "execution_count": 185,
   "id": "a48f7334-307c-4c02-8f83-7ca1084362d8",
   "metadata": {},
   "outputs": [],
   "source": [
    "Ac[1,1] = 3.0 + 4.0j"
   ]
  },
  {
   "cell_type": "code",
   "execution_count": 187,
   "id": "b5af67c1-ed9c-470f-b601-a77a9ea4340e",
   "metadata": {},
   "outputs": [
    {
     "name": "stdout",
     "output_type": "stream",
     "text": [
      "[[0.+0.j 0.+0.j 0.+0.j]\n",
      " [0.+0.j 3.+4.j 0.+0.j]\n",
      " [0.+0.j 0.+0.j 0.+0.j]\n",
      " [0.+0.j 0.+0.j 0.+0.j]]\n"
     ]
    }
   ],
   "source": [
    "print(Ac)"
   ]
  },
  {
   "cell_type": "markdown",
   "id": "f72142bf-711f-4453-80ec-5ad53f3dd5f6",
   "metadata": {},
   "source": [
    " Access to **all** the real entries can achieved using `Ac.real` (for imaginary use `Ac.imag`)."
   ]
  },
  {
   "cell_type": "markdown",
   "id": "7979b126-13a4-4118-a52c-d1e21383835c",
   "metadata": {},
   "source": [
    "Hence if you want to zero all imaginary parts, you can do this"
   ]
  },
  {
   "cell_type": "code",
   "execution_count": 191,
   "id": "ab967c07-db85-4ee8-a04b-f11c8ae91732",
   "metadata": {},
   "outputs": [
    {
     "name": "stdout",
     "output_type": "stream",
     "text": [
      "[[0.+0.j 0.+0.j 0.+0.j]\n",
      " [0.+0.j 3.+0.j 0.+0.j]\n",
      " [0.+0.j 0.+0.j 0.+0.j]\n",
      " [0.+0.j 0.+0.j 0.+0.j]]\n"
     ]
    }
   ],
   "source": [
    "Ac.imag = 0\n",
    "print(Ac)"
   ]
  },
  {
   "cell_type": "markdown",
   "id": "9aa06cdd-d035-4d5a-9280-5725c4838b24",
   "metadata": {},
   "source": [
    "Suppose you had a variable `a` and a variable `b` and you wanted to set `Ac[1,1]` to `a + bj`.\n",
    "This will not work\n",
    "```python\n",
    "Ac[1, 1] = a bj\n",
    "```\n",
    "The reason is that Python cannot figure out (safely) how to split the `bj` into a variable `b` and the complex number denoted by `j`.\n",
    "Try it"
   ]
  },
  {
   "cell_type": "code",
   "execution_count": 194,
   "id": "97f08fd8-7233-4404-aa00-8919d9513d95",
   "metadata": {},
   "outputs": [
    {
     "ename": "NameError",
     "evalue": "name 'bj' is not defined",
     "output_type": "error",
     "traceback": [
      "\u001b[0;31m---------------------------------------------------------------------------\u001b[0m",
      "\u001b[0;31mNameError\u001b[0m                                 Traceback (most recent call last)",
      "Cell \u001b[0;32mIn[194], line 3\u001b[0m\n\u001b[1;32m      1\u001b[0m a \u001b[38;5;241m=\u001b[39m \u001b[38;5;241m2.2\u001b[39m\n\u001b[1;32m      2\u001b[0m b \u001b[38;5;241m=\u001b[39m \u001b[38;5;241m3.3\u001b[39m\n\u001b[0;32m----> 3\u001b[0m Ac[\u001b[38;5;241m1\u001b[39m,\u001b[38;5;241m1\u001b[39m] \u001b[38;5;241m=\u001b[39m a \u001b[38;5;241m+\u001b[39m bj\n",
      "\u001b[0;31mNameError\u001b[0m: name 'bj' is not defined"
     ]
    }
   ],
   "source": [
    "a = 2.2\n",
    "b = 3.3\n",
    "Ac[1,1] = a + bj"
   ]
  },
  {
   "cell_type": "markdown",
   "id": "86e74539-e001-462e-8320-e25ef4af96dd",
   "metadata": {},
   "source": [
    "Python can only safely understand the notation `j` notation if a number is placed before the `j`."
   ]
  },
  {
   "cell_type": "markdown",
   "id": "fae0d66a-4224-4cdf-9aa6-933791934bfd",
   "metadata": {},
   "source": [
    "To achieve what we want we can do this"
   ]
  },
  {
   "cell_type": "code",
   "execution_count": 198,
   "id": "539582fc-49cd-4236-b6ee-28e7a33c1d4f",
   "metadata": {},
   "outputs": [],
   "source": [
    "Ac.real[1,1] = a\n",
    "Ac.imag[1,1] = b"
   ]
  },
  {
   "cell_type": "code",
   "execution_count": 200,
   "id": "5f4c941d-bbf8-4493-b309-833509de62ec",
   "metadata": {},
   "outputs": [
    {
     "name": "stdout",
     "output_type": "stream",
     "text": [
      "[[0. +0.j  0. +0.j  0. +0.j ]\n",
      " [0. +0.j  2.2+3.3j 0. +0.j ]\n",
      " [0. +0.j  0. +0.j  0. +0.j ]\n",
      " [0. +0.j  0. +0.j  0. +0.j ]]\n"
     ]
    }
   ],
   "source": [
    "print(Ac)"
   ]
  },
  {
   "cell_type": "markdown",
   "id": "dfb993d4-1b1a-476d-b5af-36dd7c391a9a",
   "metadata": {},
   "source": [
    "This essentially says \"give me all the real elements\" and then set the element at \"`[1,1]`\" to `a` and\n",
    "\"give me all the imaginary elements\" and then set the element at \"`[1,1]`\" to `b`."
   ]
  },
  {
   "cell_type": "markdown",
   "id": "44db7b60-5dde-4a5e-9468-6dcc17717b95",
   "metadata": {},
   "source": [
    "---\n",
    "## Summary\n",
    "\n",
    "We going to work a lot with array's in this course. Always represent arrays using NumPy's `ndarray` - never use the `list` object in your numerical methods. The only exception is when you have to use a `list` to get quantities into an `ndarray`.\n",
    "\n",
    "One might ask why we have use `numpy` to manage arrays in Python. The short answer is Python is very general programming language and can be used for many different types of programming tasks. Python was not designed exclusively for numerical methods! However, there are dedicated Python packages which make numerical methods possible. NumPy is one such package.\n"
   ]
  },
  {
   "cell_type": "markdown",
   "id": "0555028a-5d26-40c2-862a-a6253a302038",
   "metadata": {},
   "source": [
    "---\n",
    "**Please complete the questions in problem set 2 which can be found in `problem_set_2.pdf`**"
   ]
  }
 ],
 "metadata": {
  "kernelspec": {
   "display_name": "Python 3 (ipykernel)",
   "language": "python",
   "name": "python3"
  },
  "language_info": {
   "codemirror_mode": {
    "name": "ipython",
    "version": 3
   },
   "file_extension": ".py",
   "mimetype": "text/x-python",
   "name": "python",
   "nbconvert_exporter": "python",
   "pygments_lexer": "ipython3",
   "version": "3.12.4"
  }
 },
 "nbformat": 4,
 "nbformat_minor": 5
}
