{
 "cells": [
  {
   "cell_type": "markdown",
   "id": "368bf7ce-0be4-448e-b199-c1268cf233df",
   "metadata": {},
   "source": [
    "## Numerical Integration with Python"
   ]
  },
  {
   "cell_type": "markdown",
   "id": "9e64ee00-45f7-4bfe-804f-832f77bc4af8",
   "metadata": {},
   "source": [
    "Given a function $f(x)$, we wish to compute the definite integral\n",
    "\n",
    "$$\n",
    "I = \\int_{a}^b f(x) \\, dx\n",
    "$$\n",
    "\n",
    "where $a$ is the start terminal, $b$ is the end terminal and $f(x)$ is referred to as the intergrand.\n",
    "\n",
    "We consider two class of methods to approximate $I$:\n",
    "- Methods for integrating functions when you have access to the function $f(x)$ and can evaluate at arbitrary points $x$.\n",
    "- Methods for integrating functions when only given fixed samples, i.e. you are only provided with a set of $(x_i, f_i = f(x_i))$ values for $i=0, 1, \\dots, n$.\n"
   ]
  },
  {
   "cell_type": "markdown",
   "id": "ee95d6fb-1c55-4e69-ace3-562139bfc352",
   "metadata": {},
   "source": [
    "### Lecture topic summary\n",
    "\n",
    "* Midpoint rule\n",
    "* Richardson exptrapolation\n",
    "* Trapezoidal rule\n",
    "* Simpson's rule\n",
    "* Quadrature rules\n",
    "* Adapative integration"
   ]
  },
  {
   "cell_type": "code",
   "execution_count": 37,
   "id": "d86b6e87-6a9e-4cb8-8473-e08b37fd3157",
   "metadata": {},
   "outputs": [],
   "source": [
    "import numpy"
   ]
  },
  {
   "cell_type": "markdown",
   "id": "a94b887b-e412-41dc-b6c2-fac359be0a3b",
   "metadata": {},
   "source": [
    "## Define two test functions (the integrand) for experimentation"
   ]
  },
  {
   "cell_type": "code",
   "execution_count": 40,
   "id": "876c3a62-f800-415b-ada7-8407af797b43",
   "metadata": {},
   "outputs": [],
   "source": [
    "def integrand_function_1(x):\n",
    "    return 1.0 + x**2"
   ]
  },
  {
   "cell_type": "code",
   "execution_count": 42,
   "id": "cd5b64c8-8eef-4fc8-8b24-fcb67c36f838",
   "metadata": {},
   "outputs": [
    {
     "name": "stdout",
     "output_type": "stream",
     "text": [
      "exact integral is 2.66666666666667\n"
     ]
    }
   ],
   "source": [
    "import sympy\n",
    "\n",
    "x = sympy.Symbol('x')\n",
    "I = sympy.integrate( 1.0 + x**2, (x, -1.0, 1.0))\n",
    "print('exact integral is', I)"
   ]
  },
  {
   "cell_type": "code",
   "execution_count": 44,
   "id": "bbb53105-8254-4dc8-afb6-ebb67518b422",
   "metadata": {},
   "outputs": [],
   "source": [
    "def integrand_function_2(x):\n",
    "    return 1.0/(1.0 + x**2)"
   ]
  },
  {
   "cell_type": "code",
   "execution_count": 46,
   "id": "2769c84f-3f97-4c0d-a4dd-2ebea1f32a05",
   "metadata": {},
   "outputs": [
    {
     "name": "stdout",
     "output_type": "stream",
     "text": [
      "exact integral is 1.57079632679490\n"
     ]
    }
   ],
   "source": [
    "import sympy\n",
    "\n",
    "x = sympy.Symbol('x')\n",
    "I = sympy.integrate( 1.0/(1.0 + x**2), (x, -1.0, 1.0))\n",
    "print('exact integral is', I)"
   ]
  },
  {
   "cell_type": "markdown",
   "id": "72c700f8-940f-4fd6-ae76-519d648a6903",
   "metadata": {},
   "source": [
    "## Use `scipy.integrate`"
   ]
  },
  {
   "cell_type": "code",
   "execution_count": 49,
   "id": "0e905251-bc92-43a4-8e22-3834435f188f",
   "metadata": {},
   "outputs": [],
   "source": [
    "import scipy.integrate as integrate"
   ]
  },
  {
   "cell_type": "markdown",
   "id": "6c5cd0d3-2af4-481c-860d-51590734c09a",
   "metadata": {},
   "source": [
    "### Integration methods when the function is available"
   ]
  },
  {
   "cell_type": "markdown",
   "id": "27d4e366-a43d-4198-bdf0-fb588cf26ead",
   "metadata": {},
   "source": [
    "#### Adaptive quadrature"
   ]
  },
  {
   "cell_type": "code",
   "execution_count": 52,
   "id": "d1293dda-f3d0-475b-b92d-8b0db36362a6",
   "metadata": {},
   "outputs": [],
   "source": [
    "result = integrate.quad(integrand_function_1, -1.0, 1.0)"
   ]
  },
  {
   "cell_type": "code",
   "execution_count": 53,
   "id": "5892977b-5166-454a-b5f9-ba3d97fe5615",
   "metadata": {},
   "outputs": [
    {
     "name": "stdout",
     "output_type": "stream",
     "text": [
      "(2.6666666666666665, 2.9605947323337504e-14)\n"
     ]
    }
   ],
   "source": [
    "print(result)"
   ]
  },
  {
   "cell_type": "code",
   "execution_count": 54,
   "id": "988c01ad-8fe2-4181-ae78-d320846cc393",
   "metadata": {},
   "outputs": [
    {
     "name": "stdout",
     "output_type": "stream",
     "text": [
      "I (adapative)   2.6666666666666665\n",
      "estimated error 2.9605947323337504e-14\n"
     ]
    }
   ],
   "source": [
    "print('I (adapative)  ', result[0])\n",
    "print('estimated error', result[1])"
   ]
  },
  {
   "cell_type": "markdown",
   "id": "ac2b2515-aab1-4e79-aa79-d69dc627994c",
   "metadata": {},
   "source": [
    "#### Gauss quadrature"
   ]
  },
  {
   "cell_type": "code",
   "execution_count": 56,
   "id": "58ed6bd9-ca0d-41d8-9809-95855107350f",
   "metadata": {},
   "outputs": [],
   "source": [
    "result, _ = integrate.fixed_quad(integrand_function_1, -1.0, 1.0, args=(), n=3)"
   ]
  },
  {
   "cell_type": "code",
   "execution_count": 57,
   "id": "3b77c6ee-08af-4a32-af40-fc09f2e41522",
   "metadata": {},
   "outputs": [
    {
     "name": "stdout",
     "output_type": "stream",
     "text": [
      "2.666666666666667\n"
     ]
    }
   ],
   "source": [
    "print(result)"
   ]
  },
  {
   "cell_type": "markdown",
   "id": "5c94bede-feb1-4141-8df8-13ccae92a465",
   "metadata": {},
   "source": [
    "### Integration methods when we only have a discretely sampled function"
   ]
  },
  {
   "cell_type": "markdown",
   "id": "35b63105-5b88-44d3-8325-0f526716943d",
   "metadata": {},
   "source": [
    "Create the discretely sampled $(x_i, f_i)$ pairs."
   ]
  },
  {
   "cell_type": "code",
   "execution_count": 66,
   "id": "dfb9edcf-b462-474e-982b-feeaea3c0826",
   "metadata": {},
   "outputs": [],
   "source": [
    "xdata = numpy.linspace(-1.0, 1.0, 21)\n",
    "ydata = integrand_function_1(xdata)"
   ]
  },
  {
   "cell_type": "markdown",
   "id": "9daf5a95-fdb4-4fd6-8f98-675e6d5f4ed0",
   "metadata": {},
   "source": [
    "#### Trapezoid rule"
   ]
  },
  {
   "cell_type": "code",
   "execution_count": 69,
   "id": "2b7dd9ae-c4bd-4611-8f1b-d8f44f5ec210",
   "metadata": {},
   "outputs": [
    {
     "name": "stdout",
     "output_type": "stream",
     "text": [
      "I (trapezoid) = 2.67\n"
     ]
    }
   ],
   "source": [
    "result = integrate.trapezoid(ydata, x=xdata)\n",
    "print('I (trapezoid) =', result)"
   ]
  },
  {
   "cell_type": "markdown",
   "id": "facc2cd0-e207-4e9a-bb4f-b461be5afe9d",
   "metadata": {},
   "source": [
    "#### Simpson's rule"
   ]
  },
  {
   "cell_type": "code",
   "execution_count": 77,
   "id": "ddc401ca-201e-4b26-aadb-21bde394a021",
   "metadata": {},
   "outputs": [
    {
     "name": "stdout",
     "output_type": "stream",
     "text": [
      "I (simpson) 2.666666666666667\n"
     ]
    }
   ],
   "source": [
    "result = integrate.simpson(ydata, x=xdata)\n",
    "print('I (simpson)', result)"
   ]
  },
  {
   "cell_type": "code",
   "execution_count": null,
   "id": "93ce3149-7c96-423e-a7b8-f1efab7a3cc5",
   "metadata": {},
   "outputs": [],
   "source": []
  }
 ],
 "metadata": {
  "kernelspec": {
   "display_name": "Python 3 (ipykernel)",
   "language": "python",
   "name": "python3"
  },
  "language_info": {
   "codemirror_mode": {
    "name": "ipython",
    "version": 3
   },
   "file_extension": ".py",
   "mimetype": "text/x-python",
   "name": "python",
   "nbconvert_exporter": "python",
   "pygments_lexer": "ipython3",
   "version": "3.12.4"
  }
 },
 "nbformat": 4,
 "nbformat_minor": 5
}
